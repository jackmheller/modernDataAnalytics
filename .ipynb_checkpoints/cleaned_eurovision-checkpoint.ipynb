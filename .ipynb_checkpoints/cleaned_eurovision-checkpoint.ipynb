{
 "cells": [
  {
   "cell_type": "code",
   "execution_count": 18,
   "metadata": {},
   "outputs": [],
   "source": [
    "import pandas as pd\n",
    "import os\n",
    "import re\n",
    "import networkx as nx\n",
    "import networkx.algorithms.community as nx_comm\n",
    "from networkx.algorithms.community.label_propagation import label_propagation_communities\n",
    "# from mpl_toolkits.basemap import Basemap\n",
    "import matplotlib.pyplot as plt\n",
    "import numpy as np\n",
    "from fuzzywuzzy import fuzz\n",
    "from fuzzywuzzy import process\n",
    "import difflib\n",
    "\n",
    "\n",
    "import geopandas as gpd\n",
    "\n",
    "from libs.mrqap import MRQAP # source: https://github.com/lisette-espin/mrqap-python\n",
    "import geopy.distance\n",
    "import itertools\n"
   ]
  },
  {
   "cell_type": "code",
   "execution_count": 19,
   "metadata": {},
   "outputs": [],
   "source": [
    "# for finding data in the \"data\" folder\n",
    "_DATA_DIRECTORY = 'https://raw.githubusercontent.com/jackmheller/modernDataAnalytics/main/Data/'\n",
    "\n",
    "def full_path(path):\n",
    "    return os.path.join(_DATA_DIRECTORY, path)\n",
    "\n",
    "# importing data from github\n",
    "main_datafile = 'https://raw.githubusercontent.com/jackmheller/modernDataAnalytics/main/Data/eurovision_song_contest_1975_2019.csv'\n",
    "longform_data = pd.read_csv(main_datafile)\n",
    "\n"
   ]
  },
  {
   "cell_type": "code",
   "execution_count": 20,
   "metadata": {},
   "outputs": [],
   "source": [
    "# this is a function that allows you to get data from any year or voting type or round type \n",
    "def Eurovision_Decade_DataFrame(longform_data, vote_type = \"Both\", round_type = \"all\", y1=\"NA\", y2=\"NA\"):\n",
    "    # probably enforce types or something here    \n",
    "    longform_data = longform_data[longform_data[\"From country\"] != longform_data[\"To country\"]]\n",
    "    longform_data = longform_data.replace('F.Y.R. Macedonia','Macedonia')\n",
    "    contest_round = list(longform_data['(semi-) final'].unique())\n",
    "    for version in contest_round:\n",
    "        locals()[\"census_\"+str(version)] = longform_data[longform_data['(semi-) final']==version].groupby('Year').nunique()[['From country','To country']]\n",
    "        locals()[\"census_\"+str(version)]['(semi-) final'] = str(version)\n",
    "        locals()[\"census_\"+str(version)].reset_index()\n",
    "        locals()[\"census_\"+str(version)].rename(columns = {'From country':'sum_senders_'+str(version), 'To country':'sum_receivers_'+str(version)}, inplace = True)\n",
    "        if contest_round.index(version) == 0: \n",
    "            merged_rounds = pd.merge(longform_data, locals()[\"census_\"+str(version)], how='left', on=['Year', '(semi-) final'])\n",
    "        else:\n",
    "            merged_rounds = pd.merge(merged_rounds, locals()[\"census_\"+str(version)], how='left', on=['Year', '(semi-) final'])\n",
    "    merged_rounds = merged_rounds.fillna(0)\n",
    "\n",
    "    merged_rounds[\"sum_senders\"] = merged_rounds[\"sum_senders_sf\"] + merged_rounds[\"sum_senders_sf1\"] + merged_rounds[\"sum_senders_f\"] + merged_rounds[\"sum_senders_sf2\"] \n",
    "    merged_rounds[\"sum_receivers\"] = merged_rounds[\"sum_receivers_sf\"] + merged_rounds[\"sum_receivers_sf2\"] + merged_rounds[\"sum_receivers_f\"]  + merged_rounds[\"sum_receivers_sf1\"] \n",
    "    merged_rounds = merged_rounds.drop(['sum_senders_sf', 'sum_senders_sf1', \"sum_senders_f\", 'sum_senders_sf2', 'sum_receivers_sf', \"sum_receivers_sf2\", \"sum_receivers_f\", \"sum_receivers_sf1\"], axis=1)\n",
    "    merged_rounds['Decade'] = (10 * (merged_rounds['Year'] // 10)).astype(str) + 's'\n",
    "    merged_rounds[\"average_points\"] = merged_rounds[\"Points\"]/merged_rounds[\"sum_senders\"]\n",
    "    \n",
    "    if round_type != \"all\" and round_type == \"finals\":\n",
    "        merged_rounds = merged_rounds[merged_rounds['(semi-) final'] == \"f\"]\n",
    "    elif round_type != \"all\" and round_type == \"semis\":\n",
    "        merged_rounds = merged_rounds[(merged_rounds['(semi-) final'] == \"sf\") | (merged_rounds['(semi-) final'] == \"sf1\") | (merged_rounds['(semi-) final'] == \"sf2\")]\n",
    "    else:\n",
    "        pass\n",
    "    merged_rounds[\"contests_incl\"] = str(round_type)\n",
    "    \n",
    "    if y1 != \"NA\" and y2 != \"NA\":\n",
    "        merged_rounds = merged_rounds[(merged_rounds['Year'] >= y1) & (merged_rounds['Year'] <= y2)]\n",
    "    else:\n",
    "        pass\n",
    "    \n",
    "    if vote_type == \"J\" or vote_type == \"T\":\n",
    "        merged_rounds = merged_rounds[merged_rounds[\"Jury or Televoting\"] == vote_type]\n",
    "        decade_grouping = merged_rounds.groupby([\"Decade\",\"From country\", \"To country\"]).sum()\n",
    "        decade_grouping = decade_grouping.reset_index()\n",
    "    else:\n",
    "        decade_grouping = merged_rounds.groupby([\"Decade\",\"From country\", \"To country\"]).sum()\n",
    "        decade_grouping = decade_grouping.reset_index()\n",
    "    decade_grouping[\"Contests_Shared\"] = (decade_grouping[\"Year\"]/2000).round(0).astype(int)\n",
    "    return decade_grouping\n"
   ]
  },
  {
   "cell_type": "code",
   "execution_count": 21,
   "metadata": {},
   "outputs": [],
   "source": [
    "# this is a function to find similar countries for fuzzy matching\n",
    "def similar(landstring, country):\n",
    "    similar = process.extractOne(landstring, country, score_cutoff=90)\n",
    "    if similar == None:\n",
    "        return \"NA\"\n",
    "    else:\n",
    "        return similar[0]\n",
    "    "
   ]
  },
  {
   "cell_type": "code",
   "execution_count": 22,
   "metadata": {},
   "outputs": [],
   "source": [
    "# fn for merging on keys that match at the 90% threshold\n",
    "def fuzzy_merge(df_1, df_2, key1, key2, threshold=90, limit=1):\n",
    "    s = df_2[key2].tolist()\n",
    "    m = df_1[key1].apply(lambda x: process.extract(x, s, limit=limit))    \n",
    "    df_1['matches'] = m\n",
    "    m2 = df_1['matches'].apply(lambda x: ', '.join([i[0] for i in x if i[1] >= threshold]))\n",
    "    df_1['matches'] = m2\n",
    "    \n",
    "    return df_1"
   ]
  },
  {
   "cell_type": "code",
   "execution_count": 23,
   "metadata": {},
   "outputs": [],
   "source": [
    "# helper function to subset the data by decade (not really super needed)\n",
    "def Decade_subset(df_decades, decade=\"all\"):\n",
    "    if decade == \"all\":\n",
    "        return df_decades     \n",
    "    else:\n",
    "        locals()[\"eurovision_\"+str(decade)] = df_decades[df_decades[\"Decade\"] == str(decade)+\"s\"].sort_values(by=['average_points'],  ascending=False)\n",
    "        return locals()[\"eurovision_\"+str(decade)]"
   ]
  },
  {
   "cell_type": "code",
   "execution_count": 24,
   "metadata": {},
   "outputs": [],
   "source": [
    "# function for getting network and its community properties\n",
    "# maybe it would be best to split this function up somehow...\n",
    "%matplotlib inline\n",
    "def network_and_communities(dataframe, show_plot = \"N\"):\n",
    "    dataframe_network = nx.from_pandas_edgelist(dataframe, \"From country\", \"To country\", [\"average_points\"])\n",
    "    communities = label_propagation_communities(dataframe_network)\n",
    "    print([community for community in communities])\n",
    "\n",
    "    \n",
    "    nx.draw(dataframe_network)\n",
    "    if show_plot == \"Y\":\n",
    "        plt.show()\n",
    "    else:\n",
    "        pass\n",
    "    return dataframe_network\n"
   ]
  },
  {
   "cell_type": "code",
   "execution_count": 25,
   "metadata": {},
   "outputs": [],
   "source": [
    "# some function to subset the duders by their favorites\n",
    "\n",
    "# the nlargest memer isn't working properly, needs to be the top of each country methinks...\n",
    "\n",
    "# need to redo the flow of this, if years is something then it doesn't return what I want \n",
    "def cutoff_values(dataframe, min_years_with = \"all\", top=\"NA\", points=\"NA\"):\n",
    "    if min_years_with != \"all\" and top != \"NA\":\n",
    "        dataframe = dataframe[dataframe[\"Contests_Shared\"] >= min_years_with]\n",
    "    else:\n",
    "        if top != \"NA\":\n",
    "            favorites = dataframe.nlargest(top, 'average_points')\n",
    "        else:\n",
    "            pass\n",
    "        if points != \"NA\":\n",
    "            favorites = dataframe[dataframe[\"average_points\"] >= points]\n",
    "        else:\n",
    "            pass\n",
    "    return favorites"
   ]
  },
  {
   "cell_type": "code",
   "execution_count": 26,
   "metadata": {},
   "outputs": [],
   "source": [
    "# some function to give some basic characteristics of whatever network is passed to it..\n",
    "def network_characteristics(dataframe, weight = \"average_points\"):\n",
    "    network_of_interest = nx.from_pandas_edgelist(dataframe, \"From country\", \"To country\", [weight],\n",
    "                                   create_using=nx.DiGraph())\n",
    "    census = nx.triadic_census(network_of_interest)\n",
    "    centrality = nx.degree_centrality(network_of_interest)\n",
    "    centrality = pd.DataFrame.from_dict(centrality, orient='index', columns=['centrality']).sort_values(by=[\"centrality\"], ascending=False)\n",
    "    return census, centrality\n",
    "    "
   ]
  },
  {
   "cell_type": "code",
   "execution_count": null,
   "metadata": {},
   "outputs": [],
   "source": []
  },
  {
   "cell_type": "code",
   "execution_count": 27,
   "metadata": {},
   "outputs": [],
   "source": [
    "\n",
    "def proc_english(dataframe):\n",
    "    english = pd.read_csv(full_path(dataframe),  header=0,  skiprows=1)\n",
    "    english = english.rename(columns = {'%':'percent_english'})\n",
    "    english[\"percent_english\"] = english[\"percent_english\"].str.replace(\"2012\", \"\")\n",
    "    english[\"percent_english\"] =  [re.sub(r\"\\((.*?)\\)\", \"\", str(x)) for x in english[\"percent_english\"]]\n",
    "\n",
    "    participants = Eurovision_Decade_DataFrame(longform_data, round_type = \"all\")[\"From country\"].unique()\n",
    "    match_dict = dict((land, similar(land.upper(), english[\"Country\"])) for land in participants)\n",
    "    match_dict = pd.DataFrame.from_dict(match_dict, orient='index')\n",
    "    match_dict.reset_index()\n",
    "    match_dict['Country'] = match_dict.index\n",
    "\n",
    "    eng_data = fuzzy_merge(english, match_dict, 'Country', 'Country', threshold=90, limit=1)\n",
    "    eng_data['matches'].replace('', np.nan, inplace=True)\n",
    "    eng_data.dropna(subset=['matches'], inplace=True)\n",
    "    eng_data = eng_data.drop(['Country'], axis=1)\n",
    "    eng_data[\"percent_english\"] = eng_data[\"percent_english\"].astype(float)\n",
    "    eng_data = eng_data.drop(['No.', 'Eligible population', 'No..1', '%.1', 'No..2', '%.2', 'Notes'], axis=1)\n",
    "    return eng_data\n",
    "\n"
   ]
  },
  {
   "cell_type": "code",
   "execution_count": 28,
   "metadata": {},
   "outputs": [],
   "source": [
    "# this function grabs the data for distance and cleans it and finds the distance in kilometers\n",
    "def proc_distance(dataframe):\n",
    "    country = [row[0].strip() for row in csv.reader(open(full_path(dataframe)), delimiter=';')]\n",
    "    pos = dict((land, similar(land.upper(), country)) for land in testererer[\"From country\"].unique())\n",
    "    take_2_2 = pd.DataFrame.from_dict(pos, orient='index')\n",
    "    take_2_2.reset_index()\n",
    "    take_2_2['Country'] = take_2_2.index\n",
    "    fuzzy_merged = fuzzy_merge(country_coords, take_2_2, \"Country\", \"Country\", threshold=90, limit=1)\n",
    "    fuzzy_merged['matches'].replace('', np.nan, inplace=True)\n",
    "    fuzzy_merged.dropna(subset=['matches'], inplace=True)\n",
    "    fuzzy_merged = fuzzy_merged.drop(['Country'], axis=1)\n",
    "    print(len(fuzzy_merged[\"matches\"]))\n",
    "    dictionary_pos = fuzzy_merged.set_index('matches').T.to_dict('list')\n",
    "\n",
    "    # for val in dictionary_pos:\n",
    "    list_new = []\n",
    "    for a, b in itertools.combinations(dictionary_pos, 2):\n",
    "        list_new.append({\"Country_A\": a, \"Country_B\": b, \"Distance\": round(geopy.distance.geodesic(dictionary_pos[a], dictionary_pos[b]).km, 2)})\n",
    "\n",
    "    distance_matrix = pd.DataFrame.from_dict(list_new)\n",
    "    return distance_matrix\n",
    "\n"
   ]
  },
  {
   "cell_type": "code",
   "execution_count": 29,
   "metadata": {},
   "outputs": [
    {
     "name": "stdout",
     "output_type": "stream",
     "text": [
      "[{'Denmark', 'Belgium', 'Portugal', 'Germany'}, {'Luxembourg', 'Austria', 'Switzerland', 'Ireland', 'Norway', 'United Kingdom', 'Sweden'}, {'Spain', 'Turkey', 'Italy', 'Yugoslavia'}]\n"
     ]
    },
    {
     "data": {
      "image/png": "[encoded data removed]",
      "text/plain": [
       "<Figure size 432x288 with 1 Axes>"
      ]
     },
     "metadata": {},
     "output_type": "display_data"
    },
    {
     "data": {
      "text/plain": [
       "<networkx.classes.graph.Graph at 0x2131c495048>"
      ]
     },
     "execution_count": 29,
     "metadata": {},
     "output_type": "execute_result"
    }
   ],
   "source": [
    "network_1980 = Decade_subset(Eurovision_Decade_DataFrame(longform_data, round_type = \"all\"), decade = \"1980\")\n",
    "\n",
    "network_and_communities(cutoff_values(network_1980,  min_years_with = 5, points = 3), show_plot = \"Y\")"
   ]
  },
  {
   "cell_type": "code",
   "execution_count": 30,
   "metadata": {},
   "outputs": [
    {
     "name": "stdout",
     "output_type": "stream",
     "text": [
      "[{'Cyprus', 'Greece'}, {'Norway', 'France'}, {'Iceland', 'Sweden'}, {'Ireland', 'Belgium', 'United Kingdom'}]\n"
     ]
    },
    {
     "data": {
      "image/png": "[encoded data removed]",
      "text/plain": [
       "<Figure size 432x288 with 1 Axes>"
      ]
     },
     "metadata": {},
     "output_type": "display_data"
    },
    {
     "data": {
      "text/plain": [
       "<networkx.classes.graph.Graph at 0x2131c484ac8>"
      ]
     },
     "execution_count": 30,
     "metadata": {},
     "output_type": "execute_result"
    }
   ],
   "source": [
    "network_1990 = Decade_subset(Eurovision_Decade_DataFrame(longform_data, round_type = \"all\"), decade = \"1990\")\n",
    "\n",
    "network_and_communities(cutoff_values(network_1990, top = 8), show_plot = \"Y\")"
   ]
  },
  {
   "cell_type": "code",
   "execution_count": 31,
   "metadata": {},
   "outputs": [
    {
     "name": "stdout",
     "output_type": "stream",
     "text": [
      "[{'France', 'Turkey', 'The Netherlands', 'Germany'}, {'Croatia', 'Bosnia & Herzegovina', 'Slovenia'}, {'Estonia', 'Russia', 'Latvia'}, {'Denmark', 'Iceland', 'Sweden'}, {'Cyprus', 'Greece'}, {'Ireland', 'United Kingdom'}]\n"
     ]
    },
    {
     "data": {
      "image/png": "[encoded data removed]",
      "text/plain": [
       "<Figure size 432x288 with 1 Axes>"
      ]
     },
     "metadata": {},
     "output_type": "display_data"
    },
    {
     "data": {
      "text/plain": [
       "<networkx.classes.graph.Graph at 0x2131c876a48>"
      ]
     },
     "execution_count": 31,
     "metadata": {},
     "output_type": "execute_result"
    }
   ],
   "source": [
    "network_2000_2006 = Decade_subset(Eurovision_Decade_DataFrame(longform_data, round_type = \"all\", y1 = 2000, y2 = 2006),\n",
    "                                  decade = \"2000\")\n",
    "\n",
    "network_and_communities(cutoff_values(network_2000_2006, top = 15), show_plot = \"Y\")"
   ]
  },
  {
   "cell_type": "code",
   "execution_count": 32,
   "metadata": {},
   "outputs": [
    {
     "name": "stdout",
     "output_type": "stream",
     "text": [
      "[{'Macedonia', 'Albania', 'Turkey', 'Germany', 'United Kingdom', 'France', 'Belgium'}, {'Armenia', 'Russia', 'Israel'}, {'Portugal', 'Switzerland'}, {'Bosnia & Herzegovina', 'Slovenia'}, {'Iceland', 'Finland', 'Sweden'}]\n"
     ]
    },
    {
     "data": {
      "image/png": "[encoded data removed]",
      "text/plain": [
       "<Figure size 432x288 with 1 Axes>"
      ]
     },
     "metadata": {},
     "output_type": "display_data"
    },
    {
     "data": {
      "text/plain": [
       "<networkx.classes.graph.Graph at 0x2131e613b08>"
      ]
     },
     "execution_count": 32,
     "metadata": {},
     "output_type": "execute_result"
    }
   ],
   "source": [
    "testererer = Decade_subset(Eurovision_Decade_DataFrame(longform_data, round_type = \"all\", y1 = 2006, y2 = 2010),\n",
    "                           decade = \"2000\")\n",
    "\n",
    "network_and_communities(cutoff_values(testererer, top = 15), show_plot = \"Y\")"
   ]
  },
  {
   "cell_type": "code",
   "execution_count": 33,
   "metadata": {},
   "outputs": [
    {
     "name": "stdout",
     "output_type": "stream",
     "text": [
      "[{'The Netherlands', 'Turkey', 'Germany', 'France', 'Belgium'}, {'Lithuania', 'Estonia', 'Russia', 'Latvia'}, {'Cyprus', 'Greece'}, {'Denmark', 'Iceland', 'Sweden'}, {'Croatia', 'Bosnia & Herzegovina', 'Slovenia'}]\n"
     ]
    },
    {
     "data": {
      "image/png": "[encoded data removed]",
      "text/plain": [
       "<Figure size 432x288 with 1 Axes>"
      ]
     },
     "metadata": {},
     "output_type": "display_data"
    },
    {
     "data": {
      "text/plain": [
       "<networkx.classes.graph.Graph at 0x2131c6d3c08>"
      ]
     },
     "execution_count": 33,
     "metadata": {},
     "output_type": "execute_result"
    }
   ],
   "source": [
    "testererer = Decade_subset(Eurovision_Decade_DataFrame(longform_data, round_type = \"all\"), decade = \"2000\")\n",
    "\n",
    "network_and_communities(cutoff_values(testererer, top = 15), show_plot = \"Y\")"
   ]
  },
  {
   "cell_type": "code",
   "execution_count": 34,
   "metadata": {},
   "outputs": [
    {
     "name": "stdout",
     "output_type": "stream",
     "text": [
      "[{'Cyprus', 'Albania', 'Greece'}, {'Romania', 'Moldova'}, {'Azerbaijan', 'Russia', 'Georgia'}, {'Denmark', 'Norway', 'The Netherlands', 'Sweden'}, {'Lithuania', 'United Kingdom'}]\n"
     ]
    },
    {
     "data": {
      "image/png": "[encoded data removed]",
      "text/plain": [
       "<Figure size 432x288 with 1 Axes>"
      ]
     },
     "metadata": {},
     "output_type": "display_data"
    },
    {
     "data": {
      "text/plain": [
       "<networkx.classes.graph.Graph at 0x2131e5aa388>"
      ]
     },
     "execution_count": 34,
     "metadata": {},
     "output_type": "execute_result"
    }
   ],
   "source": [
    "testererer = Decade_subset(Eurovision_Decade_DataFrame(longform_data, round_type = \"all\"), decade = \"2010\")\n",
    "\n",
    "network_and_communities(cutoff_values(testererer, top = 15), show_plot = \"Y\")"
   ]
  },
  {
   "cell_type": "code",
   "execution_count": 35,
   "metadata": {},
   "outputs": [
    {
     "name": "stdout",
     "output_type": "stream",
     "text": [
      "[{'Cyprus', 'Armenia', 'Greece'}, {'Ireland', 'United Kingdom', 'Lithuania'}, {'Denmark', 'Norway', 'Sweden'}, {'Montenegro', 'Hungary', 'Slovenia', 'Serbia'}, {'Russia', 'Moldova'}, {'Azerbaijan', 'Czech Republic'}, {'Estonia', 'Finland'}]\n"
     ]
    },
    {
     "data": {
      "image/png": "[encoded data removed]",
      "text/plain": [
       "<Figure size 432x288 with 1 Axes>"
      ]
     },
     "metadata": {},
     "output_type": "display_data"
    },
    {
     "data": {
      "text/plain": [
       "<networkx.classes.graph.Graph at 0x2131e5a5c88>"
      ]
     },
     "execution_count": 35,
     "metadata": {},
     "output_type": "execute_result"
    }
   ],
   "source": [
    "testererer = Eurovision_Decade_DataFrame(longform_data, \n",
    "                                         round_type = \"all\", vote_type = \"T\")\n",
    "\n",
    "network_and_communities(cutoff_values(testererer, top = 15), show_plot = \"Y\")"
   ]
  },
  {
   "cell_type": "code",
   "execution_count": 36,
   "metadata": {},
   "outputs": [
    {
     "name": "stdout",
     "output_type": "stream",
     "text": [
      "[{'Romania', 'Russia', 'Moldova'}, {'Denmark', 'The Netherlands', 'Latvia', 'Norway', 'Sweden'}, {'Cyprus', 'Albania', 'Greece'}, {'France', 'Turkey'}, {'Azerbaijan', 'Georgia'}]\n"
     ]
    },
    {
     "data": {
      "image/png": "[encoded data removed]",
      "text/plain": [
       "<Figure size 432x288 with 1 Axes>"
      ]
     },
     "metadata": {},
     "output_type": "display_data"
    },
    {
     "data": {
      "text/plain": [
       "<networkx.classes.graph.Graph at 0x2131a7c1c88>"
      ]
     },
     "execution_count": 36,
     "metadata": {},
     "output_type": "execute_result"
    }
   ],
   "source": [
    "testererer = Eurovision_Decade_DataFrame(longform_data, \n",
    "                                         round_type = \"all\", vote_type = \"J\")\n",
    "\n",
    "network_and_communities(cutoff_values(testererer, top = 15), show_plot = \"Y\")"
   ]
  },
  {
   "cell_type": "code",
   "execution_count": 37,
   "metadata": {},
   "outputs": [
    {
     "name": "stdout",
     "output_type": "stream",
     "text": [
      "[{'Cyprus', 'Albania', 'Greece'}, {'Romania', 'Moldova'}, {'Azerbaijan', 'Russia', 'Georgia'}, {'Denmark', 'Norway', 'The Netherlands', 'Sweden'}, {'Lithuania', 'United Kingdom'}]\n"
     ]
    },
    {
     "data": {
      "image/png": "[encoded data removed]",
      "text/plain": [
       "<Figure size 432x288 with 1 Axes>"
      ]
     },
     "metadata": {},
     "output_type": "display_data"
    },
    {
     "data": {
      "text/plain": [
       "<networkx.classes.graph.Graph at 0x2131c839788>"
      ]
     },
     "execution_count": 37,
     "metadata": {},
     "output_type": "execute_result"
    }
   ],
   "source": [
    "testererer = Eurovision_Decade_DataFrame(longform_data, \n",
    "                                         round_type = \"all\")\n",
    "\n",
    "network_and_communities(cutoff_values(testererer, top = 15), show_plot = \"Y\")"
   ]
  },
  {
   "cell_type": "code",
   "execution_count": 38,
   "metadata": {},
   "outputs": [
    {
     "name": "stdout",
     "output_type": "stream",
     "text": [
      "[{'Luxembourg', 'Poland', 'Czech Republic', 'Italy', 'Switzerland', 'Greece', 'Croatia', 'Germany', 'France', 'Albania', 'Australia', 'Lithuania', 'San Marino', 'Montenegro', 'Latvia', 'Serbia', 'Spain', 'Belarus', 'Iceland', 'Morocco', 'Slovakia', 'Yugoslavia', 'North Macedonia', 'Bulgaria', 'Moldova', 'Denmark', 'The Netherlands', 'Andorra', 'Bosnia & Herzegovina', 'Macedonia', 'Cyprus', 'Portugal', 'Ukraine', 'Russia', 'United Kingdom', 'Sweden', 'Serbia & Montenegro', 'The Netherands', 'Monaco', 'Georgia', 'Azerbaijan', 'Austria', 'Estonia', 'Turkey', 'Malta', 'Slovenia', 'Hungary', 'Ireland', 'Norway', 'Romania', 'Armenia', 'Finland', 'Belgium', 'Israel'}]\n"
     ]
    },
    {
     "data": {
      "image/png": "[encoded data removed]",
      "text/plain": [
       "<Figure size 432x288 with 1 Axes>"
      ]
     },
     "metadata": {},
     "output_type": "display_data"
    }
   ],
   "source": [
    "# I guess louvain probably works the best for getting these labels without struggle\n",
    "from community import community_louvain\n",
    "partition = community_louvain.best_partition(network_and_communities(testererer))\n",
    "partition\n",
    "\n",
    "count = 0\n",
    "for com in set(partition.values()) :\n",
    "    count = count + 1.\n",
    "    list_nodes = [nodes for nodes in partition.keys()\n",
    "                                if partition[nodes] == com]"
   ]
  },
  {
   "cell_type": "code",
   "execution_count": 39,
   "metadata": {},
   "outputs": [
    {
     "data": {
      "text/html": [
       "<div>\n",
       "<style scoped>\n",
       "    .dataframe tbody tr th:only-of-type {\n",
       "        vertical-align: middle;\n",
       "    }\n",
       "\n",
       "    .dataframe tbody tr th {\n",
       "        vertical-align: top;\n",
       "    }\n",
       "\n",
       "    .dataframe thead th {\n",
       "        text-align: right;\n",
       "    }\n",
       "</style>\n",
       "<table border=\"1\" class=\"dataframe\">\n",
       "  <thead>\n",
       "    <tr style=\"text-align: right;\">\n",
       "      <th></th>\n",
       "      <th>Country</th>\n",
       "      <th>cluster</th>\n",
       "    </tr>\n",
       "  </thead>\n",
       "  <tbody>\n",
       "    <tr>\n",
       "      <th>0</th>\n",
       "      <td>Austria</td>\n",
       "      <td>0</td>\n",
       "    </tr>\n",
       "    <tr>\n",
       "      <th>1</th>\n",
       "      <td>Belgium</td>\n",
       "      <td>0</td>\n",
       "    </tr>\n",
       "    <tr>\n",
       "      <th>2</th>\n",
       "      <td>Denmark</td>\n",
       "      <td>0</td>\n",
       "    </tr>\n",
       "    <tr>\n",
       "      <th>3</th>\n",
       "      <td>Finland</td>\n",
       "      <td>0</td>\n",
       "    </tr>\n",
       "    <tr>\n",
       "      <th>4</th>\n",
       "      <td>France</td>\n",
       "      <td>0</td>\n",
       "    </tr>\n",
       "    <tr>\n",
       "      <th>5</th>\n",
       "      <td>Germany</td>\n",
       "      <td>0</td>\n",
       "    </tr>\n",
       "    <tr>\n",
       "      <th>6</th>\n",
       "      <td>Greece</td>\n",
       "      <td>0</td>\n",
       "    </tr>\n",
       "    <tr>\n",
       "      <th>7</th>\n",
       "      <td>Ireland</td>\n",
       "      <td>0</td>\n",
       "    </tr>\n",
       "    <tr>\n",
       "      <th>8</th>\n",
       "      <td>Israel</td>\n",
       "      <td>1</td>\n",
       "    </tr>\n",
       "    <tr>\n",
       "      <th>9</th>\n",
       "      <td>Italy</td>\n",
       "      <td>0</td>\n",
       "    </tr>\n",
       "    <tr>\n",
       "      <th>10</th>\n",
       "      <td>Luxembourg</td>\n",
       "      <td>0</td>\n",
       "    </tr>\n",
       "    <tr>\n",
       "      <th>11</th>\n",
       "      <td>Monaco</td>\n",
       "      <td>0</td>\n",
       "    </tr>\n",
       "    <tr>\n",
       "      <th>12</th>\n",
       "      <td>Norway</td>\n",
       "      <td>0</td>\n",
       "    </tr>\n",
       "    <tr>\n",
       "      <th>13</th>\n",
       "      <td>Portugal</td>\n",
       "      <td>0</td>\n",
       "    </tr>\n",
       "    <tr>\n",
       "      <th>14</th>\n",
       "      <td>Spain</td>\n",
       "      <td>0</td>\n",
       "    </tr>\n",
       "    <tr>\n",
       "      <th>15</th>\n",
       "      <td>Sweden</td>\n",
       "      <td>0</td>\n",
       "    </tr>\n",
       "    <tr>\n",
       "      <th>16</th>\n",
       "      <td>Switzerland</td>\n",
       "      <td>0</td>\n",
       "    </tr>\n",
       "    <tr>\n",
       "      <th>17</th>\n",
       "      <td>The Netherlands</td>\n",
       "      <td>1</td>\n",
       "    </tr>\n",
       "    <tr>\n",
       "      <th>18</th>\n",
       "      <td>Turkey</td>\n",
       "      <td>0</td>\n",
       "    </tr>\n",
       "    <tr>\n",
       "      <th>19</th>\n",
       "      <td>United Kingdom</td>\n",
       "      <td>0</td>\n",
       "    </tr>\n",
       "    <tr>\n",
       "      <th>20</th>\n",
       "      <td>Yugoslavia</td>\n",
       "      <td>0</td>\n",
       "    </tr>\n",
       "    <tr>\n",
       "      <th>21</th>\n",
       "      <td>Malta</td>\n",
       "      <td>1</td>\n",
       "    </tr>\n",
       "    <tr>\n",
       "      <th>22</th>\n",
       "      <td>Cyprus</td>\n",
       "      <td>1</td>\n",
       "    </tr>\n",
       "    <tr>\n",
       "      <th>23</th>\n",
       "      <td>Iceland</td>\n",
       "      <td>1</td>\n",
       "    </tr>\n",
       "    <tr>\n",
       "      <th>24</th>\n",
       "      <td>Morocco</td>\n",
       "      <td>0</td>\n",
       "    </tr>\n",
       "    <tr>\n",
       "      <th>25</th>\n",
       "      <td>Bosnia &amp; Herzegovina</td>\n",
       "      <td>1</td>\n",
       "    </tr>\n",
       "    <tr>\n",
       "      <th>26</th>\n",
       "      <td>Croatia</td>\n",
       "      <td>1</td>\n",
       "    </tr>\n",
       "    <tr>\n",
       "      <th>27</th>\n",
       "      <td>Estonia</td>\n",
       "      <td>1</td>\n",
       "    </tr>\n",
       "    <tr>\n",
       "      <th>28</th>\n",
       "      <td>Hungary</td>\n",
       "      <td>1</td>\n",
       "    </tr>\n",
       "    <tr>\n",
       "      <th>29</th>\n",
       "      <td>Lithuania</td>\n",
       "      <td>1</td>\n",
       "    </tr>\n",
       "    <tr>\n",
       "      <th>30</th>\n",
       "      <td>Poland</td>\n",
       "      <td>1</td>\n",
       "    </tr>\n",
       "    <tr>\n",
       "      <th>31</th>\n",
       "      <td>Romania</td>\n",
       "      <td>1</td>\n",
       "    </tr>\n",
       "    <tr>\n",
       "      <th>32</th>\n",
       "      <td>Russia</td>\n",
       "      <td>1</td>\n",
       "    </tr>\n",
       "    <tr>\n",
       "      <th>33</th>\n",
       "      <td>Slovakia</td>\n",
       "      <td>1</td>\n",
       "    </tr>\n",
       "    <tr>\n",
       "      <th>34</th>\n",
       "      <td>Slovenia</td>\n",
       "      <td>1</td>\n",
       "    </tr>\n",
       "    <tr>\n",
       "      <th>35</th>\n",
       "      <td>Macedonia</td>\n",
       "      <td>1</td>\n",
       "    </tr>\n",
       "    <tr>\n",
       "      <th>36</th>\n",
       "      <td>Albania</td>\n",
       "      <td>1</td>\n",
       "    </tr>\n",
       "    <tr>\n",
       "      <th>37</th>\n",
       "      <td>Andorra</td>\n",
       "      <td>1</td>\n",
       "    </tr>\n",
       "    <tr>\n",
       "      <th>38</th>\n",
       "      <td>Armenia</td>\n",
       "      <td>1</td>\n",
       "    </tr>\n",
       "    <tr>\n",
       "      <th>39</th>\n",
       "      <td>Azerbaijan</td>\n",
       "      <td>1</td>\n",
       "    </tr>\n",
       "    <tr>\n",
       "      <th>40</th>\n",
       "      <td>Belarus</td>\n",
       "      <td>1</td>\n",
       "    </tr>\n",
       "    <tr>\n",
       "      <th>41</th>\n",
       "      <td>Bulgaria</td>\n",
       "      <td>1</td>\n",
       "    </tr>\n",
       "    <tr>\n",
       "      <th>42</th>\n",
       "      <td>Czech Republic</td>\n",
       "      <td>1</td>\n",
       "    </tr>\n",
       "    <tr>\n",
       "      <th>43</th>\n",
       "      <td>Georgia</td>\n",
       "      <td>1</td>\n",
       "    </tr>\n",
       "    <tr>\n",
       "      <th>44</th>\n",
       "      <td>Latvia</td>\n",
       "      <td>1</td>\n",
       "    </tr>\n",
       "    <tr>\n",
       "      <th>45</th>\n",
       "      <td>Moldova</td>\n",
       "      <td>1</td>\n",
       "    </tr>\n",
       "    <tr>\n",
       "      <th>46</th>\n",
       "      <td>Montenegro</td>\n",
       "      <td>1</td>\n",
       "    </tr>\n",
       "    <tr>\n",
       "      <th>47</th>\n",
       "      <td>Serbia</td>\n",
       "      <td>1</td>\n",
       "    </tr>\n",
       "    <tr>\n",
       "      <th>48</th>\n",
       "      <td>Serbia &amp; Montenegro</td>\n",
       "      <td>1</td>\n",
       "    </tr>\n",
       "    <tr>\n",
       "      <th>49</th>\n",
       "      <td>Ukraine</td>\n",
       "      <td>1</td>\n",
       "    </tr>\n",
       "    <tr>\n",
       "      <th>50</th>\n",
       "      <td>San Marino</td>\n",
       "      <td>1</td>\n",
       "    </tr>\n",
       "    <tr>\n",
       "      <th>51</th>\n",
       "      <td>Australia</td>\n",
       "      <td>1</td>\n",
       "    </tr>\n",
       "    <tr>\n",
       "      <th>52</th>\n",
       "      <td>North Macedonia</td>\n",
       "      <td>1</td>\n",
       "    </tr>\n",
       "    <tr>\n",
       "      <th>53</th>\n",
       "      <td>The Netherands</td>\n",
       "      <td>1</td>\n",
       "    </tr>\n",
       "  </tbody>\n",
       "</table>\n",
       "</div>"
      ],
      "text/plain": [
       "                 Country  cluster\n",
       "0                Austria        0\n",
       "1                Belgium        0\n",
       "2                Denmark        0\n",
       "3                Finland        0\n",
       "4                 France        0\n",
       "5                Germany        0\n",
       "6                 Greece        0\n",
       "7                Ireland        0\n",
       "8                 Israel        1\n",
       "9                  Italy        0\n",
       "10            Luxembourg        0\n",
       "11                Monaco        0\n",
       "12                Norway        0\n",
       "13              Portugal        0\n",
       "14                 Spain        0\n",
       "15                Sweden        0\n",
       "16           Switzerland        0\n",
       "17       The Netherlands        1\n",
       "18                Turkey        0\n",
       "19        United Kingdom        0\n",
       "20            Yugoslavia        0\n",
       "21                 Malta        1\n",
       "22                Cyprus        1\n",
       "23               Iceland        1\n",
       "24               Morocco        0\n",
       "25  Bosnia & Herzegovina        1\n",
       "26               Croatia        1\n",
       "27               Estonia        1\n",
       "28               Hungary        1\n",
       "29             Lithuania        1\n",
       "30                Poland        1\n",
       "31               Romania        1\n",
       "32                Russia        1\n",
       "33              Slovakia        1\n",
       "34              Slovenia        1\n",
       "35             Macedonia        1\n",
       "36               Albania        1\n",
       "37               Andorra        1\n",
       "38               Armenia        1\n",
       "39            Azerbaijan        1\n",
       "40               Belarus        1\n",
       "41              Bulgaria        1\n",
       "42        Czech Republic        1\n",
       "43               Georgia        1\n",
       "44                Latvia        1\n",
       "45               Moldova        1\n",
       "46            Montenegro        1\n",
       "47                Serbia        1\n",
       "48   Serbia & Montenegro        1\n",
       "49               Ukraine        1\n",
       "50            San Marino        1\n",
       "51             Australia        1\n",
       "52       North Macedonia        1\n",
       "53        The Netherands        1"
      ]
     },
     "execution_count": 39,
     "metadata": {},
     "output_type": "execute_result"
    }
   ],
   "source": [
    "clusters_df = pd.DataFrame.from_dict(partition, orient='index', columns=['cluster']).reset_index()\n",
    "clusters_df.rename(columns={\"index\": \"Country\"}, errors=\"raise\", inplace=True)\n",
    "clusters_df"
   ]
  },
  {
   "cell_type": "code",
   "execution_count": 40,
   "metadata": {},
   "outputs": [
    {
     "ename": "HTTPError",
     "evalue": "HTTP Error 404: Not Found",
     "output_type": "error",
     "traceback": [
      "\u001b[1;31m---------------------------------------------------------------------------\u001b[0m",
      "\u001b[1;31mHTTPError\u001b[0m                                 Traceback (most recent call last)",
      "\u001b[1;32m~\\AppData\\Local\\Temp\\ipykernel_19580\\2095478256.py\u001b[0m in \u001b[0;36m<module>\u001b[1;34m\u001b[0m\n\u001b[0;32m      7\u001b[0m \u001b[1;31m# and place the contents of the zip in the data folder.\u001b[0m\u001b[1;33m\u001b[0m\u001b[1;33m\u001b[0m\u001b[1;33m\u001b[0m\u001b[0m\n\u001b[0;32m      8\u001b[0m \u001b[1;33m\u001b[0m\u001b[0m\n\u001b[1;32m----> 9\u001b[1;33m \u001b[0mcountry_codes\u001b[0m \u001b[1;33m=\u001b[0m \u001b[0mpd\u001b[0m\u001b[1;33m.\u001b[0m\u001b[0mread_csv\u001b[0m\u001b[1;33m(\u001b[0m\u001b[0mfull_path\u001b[0m\u001b[1;33m(\u001b[0m\u001b[1;34m'country_codes.csv'\u001b[0m\u001b[1;33m)\u001b[0m\u001b[1;33m)\u001b[0m\u001b[1;33m\u001b[0m\u001b[1;33m\u001b[0m\u001b[0m\n\u001b[0m\u001b[0;32m     10\u001b[0m \u001b[1;33m\u001b[0m\u001b[0m\n\u001b[0;32m     11\u001b[0m \u001b[0mshapefile\u001b[0m \u001b[1;33m=\u001b[0m \u001b[0mfull_path\u001b[0m\u001b[1;33m(\u001b[0m\u001b[1;34m'ne_10m_admin_0_countries.shp'\u001b[0m\u001b[1;33m)\u001b[0m\u001b[1;33m\u001b[0m\u001b[1;33m\u001b[0m\u001b[0m\n",
      "\u001b[1;32m~\\Anaconda3\\envs\\test_python\\lib\\site-packages\\pandas\\util\\_decorators.py\u001b[0m in \u001b[0;36mwrapper\u001b[1;34m(*args, **kwargs)\u001b[0m\n\u001b[0;32m    309\u001b[0m                     \u001b[0mstacklevel\u001b[0m\u001b[1;33m=\u001b[0m\u001b[0mstacklevel\u001b[0m\u001b[1;33m,\u001b[0m\u001b[1;33m\u001b[0m\u001b[1;33m\u001b[0m\u001b[0m\n\u001b[0;32m    310\u001b[0m                 )\n\u001b[1;32m--> 311\u001b[1;33m             \u001b[1;32mreturn\u001b[0m \u001b[0mfunc\u001b[0m\u001b[1;33m(\u001b[0m\u001b[1;33m*\u001b[0m\u001b[0margs\u001b[0m\u001b[1;33m,\u001b[0m \u001b[1;33m**\u001b[0m\u001b[0mkwargs\u001b[0m\u001b[1;33m)\u001b[0m\u001b[1;33m\u001b[0m\u001b[1;33m\u001b[0m\u001b[0m\n\u001b[0m\u001b[0;32m    312\u001b[0m \u001b[1;33m\u001b[0m\u001b[0m\n\u001b[0;32m    313\u001b[0m         \u001b[1;32mreturn\u001b[0m \u001b[0mwrapper\u001b[0m\u001b[1;33m\u001b[0m\u001b[1;33m\u001b[0m\u001b[0m\n",
      "\u001b[1;32m~\\Anaconda3\\envs\\test_python\\lib\\site-packages\\pandas\\io\\parsers\\readers.py\u001b[0m in \u001b[0;36mread_csv\u001b[1;34m(filepath_or_buffer, sep, delimiter, header, names, index_col, usecols, squeeze, prefix, mangle_dupe_cols, dtype, engine, converters, true_values, false_values, skipinitialspace, skiprows, skipfooter, nrows, na_values, keep_default_na, na_filter, verbose, skip_blank_lines, parse_dates, infer_datetime_format, keep_date_col, date_parser, dayfirst, cache_dates, iterator, chunksize, compression, thousands, decimal, lineterminator, quotechar, quoting, doublequote, escapechar, comment, encoding, encoding_errors, dialect, error_bad_lines, warn_bad_lines, on_bad_lines, delim_whitespace, low_memory, memory_map, float_precision, storage_options)\u001b[0m\n\u001b[0;32m    584\u001b[0m     \u001b[0mkwds\u001b[0m\u001b[1;33m.\u001b[0m\u001b[0mupdate\u001b[0m\u001b[1;33m(\u001b[0m\u001b[0mkwds_defaults\u001b[0m\u001b[1;33m)\u001b[0m\u001b[1;33m\u001b[0m\u001b[1;33m\u001b[0m\u001b[0m\n\u001b[0;32m    585\u001b[0m \u001b[1;33m\u001b[0m\u001b[0m\n\u001b[1;32m--> 586\u001b[1;33m     \u001b[1;32mreturn\u001b[0m \u001b[0m_read\u001b[0m\u001b[1;33m(\u001b[0m\u001b[0mfilepath_or_buffer\u001b[0m\u001b[1;33m,\u001b[0m \u001b[0mkwds\u001b[0m\u001b[1;33m)\u001b[0m\u001b[1;33m\u001b[0m\u001b[1;33m\u001b[0m\u001b[0m\n\u001b[0m\u001b[0;32m    587\u001b[0m \u001b[1;33m\u001b[0m\u001b[0m\n\u001b[0;32m    588\u001b[0m \u001b[1;33m\u001b[0m\u001b[0m\n",
      "\u001b[1;32m~\\Anaconda3\\envs\\test_python\\lib\\site-packages\\pandas\\io\\parsers\\readers.py\u001b[0m in \u001b[0;36m_read\u001b[1;34m(filepath_or_buffer, kwds)\u001b[0m\n\u001b[0;32m    480\u001b[0m \u001b[1;33m\u001b[0m\u001b[0m\n\u001b[0;32m    481\u001b[0m     \u001b[1;31m# Create the parser.\u001b[0m\u001b[1;33m\u001b[0m\u001b[1;33m\u001b[0m\u001b[1;33m\u001b[0m\u001b[0m\n\u001b[1;32m--> 482\u001b[1;33m     \u001b[0mparser\u001b[0m \u001b[1;33m=\u001b[0m \u001b[0mTextFileReader\u001b[0m\u001b[1;33m(\u001b[0m\u001b[0mfilepath_or_buffer\u001b[0m\u001b[1;33m,\u001b[0m \u001b[1;33m**\u001b[0m\u001b[0mkwds\u001b[0m\u001b[1;33m)\u001b[0m\u001b[1;33m\u001b[0m\u001b[1;33m\u001b[0m\u001b[0m\n\u001b[0m\u001b[0;32m    483\u001b[0m \u001b[1;33m\u001b[0m\u001b[0m\n\u001b[0;32m    484\u001b[0m     \u001b[1;32mif\u001b[0m \u001b[0mchunksize\u001b[0m \u001b[1;32mor\u001b[0m \u001b[0miterator\u001b[0m\u001b[1;33m:\u001b[0m\u001b[1;33m\u001b[0m\u001b[1;33m\u001b[0m\u001b[0m\n",
      "\u001b[1;32m~\\Anaconda3\\envs\\test_python\\lib\\site-packages\\pandas\\io\\parsers\\readers.py\u001b[0m in \u001b[0;36m__init__\u001b[1;34m(self, f, engine, **kwds)\u001b[0m\n\u001b[0;32m    809\u001b[0m             \u001b[0mself\u001b[0m\u001b[1;33m.\u001b[0m\u001b[0moptions\u001b[0m\u001b[1;33m[\u001b[0m\u001b[1;34m\"has_index_names\"\u001b[0m\u001b[1;33m]\u001b[0m \u001b[1;33m=\u001b[0m \u001b[0mkwds\u001b[0m\u001b[1;33m[\u001b[0m\u001b[1;34m\"has_index_names\"\u001b[0m\u001b[1;33m]\u001b[0m\u001b[1;33m\u001b[0m\u001b[1;33m\u001b[0m\u001b[0m\n\u001b[0;32m    810\u001b[0m \u001b[1;33m\u001b[0m\u001b[0m\n\u001b[1;32m--> 811\u001b[1;33m         \u001b[0mself\u001b[0m\u001b[1;33m.\u001b[0m\u001b[0m_engine\u001b[0m \u001b[1;33m=\u001b[0m \u001b[0mself\u001b[0m\u001b[1;33m.\u001b[0m\u001b[0m_make_engine\u001b[0m\u001b[1;33m(\u001b[0m\u001b[0mself\u001b[0m\u001b[1;33m.\u001b[0m\u001b[0mengine\u001b[0m\u001b[1;33m)\u001b[0m\u001b[1;33m\u001b[0m\u001b[1;33m\u001b[0m\u001b[0m\n\u001b[0m\u001b[0;32m    812\u001b[0m \u001b[1;33m\u001b[0m\u001b[0m\n\u001b[0;32m    813\u001b[0m     \u001b[1;32mdef\u001b[0m \u001b[0mclose\u001b[0m\u001b[1;33m(\u001b[0m\u001b[0mself\u001b[0m\u001b[1;33m)\u001b[0m\u001b[1;33m:\u001b[0m\u001b[1;33m\u001b[0m\u001b[1;33m\u001b[0m\u001b[0m\n",
      "\u001b[1;32m~\\Anaconda3\\envs\\test_python\\lib\\site-packages\\pandas\\io\\parsers\\readers.py\u001b[0m in \u001b[0;36m_make_engine\u001b[1;34m(self, engine)\u001b[0m\n\u001b[0;32m   1038\u001b[0m             )\n\u001b[0;32m   1039\u001b[0m         \u001b[1;31m# error: Too many arguments for \"ParserBase\"\u001b[0m\u001b[1;33m\u001b[0m\u001b[1;33m\u001b[0m\u001b[1;33m\u001b[0m\u001b[0m\n\u001b[1;32m-> 1040\u001b[1;33m         \u001b[1;32mreturn\u001b[0m \u001b[0mmapping\u001b[0m\u001b[1;33m[\u001b[0m\u001b[0mengine\u001b[0m\u001b[1;33m]\u001b[0m\u001b[1;33m(\u001b[0m\u001b[0mself\u001b[0m\u001b[1;33m.\u001b[0m\u001b[0mf\u001b[0m\u001b[1;33m,\u001b[0m \u001b[1;33m**\u001b[0m\u001b[0mself\u001b[0m\u001b[1;33m.\u001b[0m\u001b[0moptions\u001b[0m\u001b[1;33m)\u001b[0m  \u001b[1;31m# type: ignore[call-arg]\u001b[0m\u001b[1;33m\u001b[0m\u001b[1;33m\u001b[0m\u001b[0m\n\u001b[0m\u001b[0;32m   1041\u001b[0m \u001b[1;33m\u001b[0m\u001b[0m\n\u001b[0;32m   1042\u001b[0m     \u001b[1;32mdef\u001b[0m \u001b[0m_failover_to_python\u001b[0m\u001b[1;33m(\u001b[0m\u001b[0mself\u001b[0m\u001b[1;33m)\u001b[0m\u001b[1;33m:\u001b[0m\u001b[1;33m\u001b[0m\u001b[1;33m\u001b[0m\u001b[0m\n",
      "\u001b[1;32m~\\Anaconda3\\envs\\test_python\\lib\\site-packages\\pandas\\io\\parsers\\c_parser_wrapper.py\u001b[0m in \u001b[0;36m__init__\u001b[1;34m(self, src, **kwds)\u001b[0m\n\u001b[0;32m     49\u001b[0m \u001b[1;33m\u001b[0m\u001b[0m\n\u001b[0;32m     50\u001b[0m         \u001b[1;31m# open handles\u001b[0m\u001b[1;33m\u001b[0m\u001b[1;33m\u001b[0m\u001b[1;33m\u001b[0m\u001b[0m\n\u001b[1;32m---> 51\u001b[1;33m         \u001b[0mself\u001b[0m\u001b[1;33m.\u001b[0m\u001b[0m_open_handles\u001b[0m\u001b[1;33m(\u001b[0m\u001b[0msrc\u001b[0m\u001b[1;33m,\u001b[0m \u001b[0mkwds\u001b[0m\u001b[1;33m)\u001b[0m\u001b[1;33m\u001b[0m\u001b[1;33m\u001b[0m\u001b[0m\n\u001b[0m\u001b[0;32m     52\u001b[0m         \u001b[1;32massert\u001b[0m \u001b[0mself\u001b[0m\u001b[1;33m.\u001b[0m\u001b[0mhandles\u001b[0m \u001b[1;32mis\u001b[0m \u001b[1;32mnot\u001b[0m \u001b[1;32mNone\u001b[0m\u001b[1;33m\u001b[0m\u001b[1;33m\u001b[0m\u001b[0m\n\u001b[0;32m     53\u001b[0m \u001b[1;33m\u001b[0m\u001b[0m\n",
      "\u001b[1;32m~\\Anaconda3\\envs\\test_python\\lib\\site-packages\\pandas\\io\\parsers\\base_parser.py\u001b[0m in \u001b[0;36m_open_handles\u001b[1;34m(self, src, kwds)\u001b[0m\n\u001b[0;32m    227\u001b[0m             \u001b[0mmemory_map\u001b[0m\u001b[1;33m=\u001b[0m\u001b[0mkwds\u001b[0m\u001b[1;33m.\u001b[0m\u001b[0mget\u001b[0m\u001b[1;33m(\u001b[0m\u001b[1;34m\"memory_map\"\u001b[0m\u001b[1;33m,\u001b[0m \u001b[1;32mFalse\u001b[0m\u001b[1;33m)\u001b[0m\u001b[1;33m,\u001b[0m\u001b[1;33m\u001b[0m\u001b[1;33m\u001b[0m\u001b[0m\n\u001b[0;32m    228\u001b[0m             \u001b[0mstorage_options\u001b[0m\u001b[1;33m=\u001b[0m\u001b[0mkwds\u001b[0m\u001b[1;33m.\u001b[0m\u001b[0mget\u001b[0m\u001b[1;33m(\u001b[0m\u001b[1;34m\"storage_options\"\u001b[0m\u001b[1;33m,\u001b[0m \u001b[1;32mNone\u001b[0m\u001b[1;33m)\u001b[0m\u001b[1;33m,\u001b[0m\u001b[1;33m\u001b[0m\u001b[1;33m\u001b[0m\u001b[0m\n\u001b[1;32m--> 229\u001b[1;33m             \u001b[0merrors\u001b[0m\u001b[1;33m=\u001b[0m\u001b[0mkwds\u001b[0m\u001b[1;33m.\u001b[0m\u001b[0mget\u001b[0m\u001b[1;33m(\u001b[0m\u001b[1;34m\"encoding_errors\"\u001b[0m\u001b[1;33m,\u001b[0m \u001b[1;34m\"strict\"\u001b[0m\u001b[1;33m)\u001b[0m\u001b[1;33m,\u001b[0m\u001b[1;33m\u001b[0m\u001b[1;33m\u001b[0m\u001b[0m\n\u001b[0m\u001b[0;32m    230\u001b[0m         )\n\u001b[0;32m    231\u001b[0m \u001b[1;33m\u001b[0m\u001b[0m\n",
      "\u001b[1;32m~\\Anaconda3\\envs\\test_python\\lib\\site-packages\\pandas\\io\\common.py\u001b[0m in \u001b[0;36mget_handle\u001b[1;34m(path_or_buf, mode, encoding, compression, memory_map, is_text, errors, storage_options)\u001b[0m\n\u001b[0;32m    612\u001b[0m         \u001b[0mcompression\u001b[0m\u001b[1;33m=\u001b[0m\u001b[0mcompression\u001b[0m\u001b[1;33m,\u001b[0m\u001b[1;33m\u001b[0m\u001b[1;33m\u001b[0m\u001b[0m\n\u001b[0;32m    613\u001b[0m         \u001b[0mmode\u001b[0m\u001b[1;33m=\u001b[0m\u001b[0mmode\u001b[0m\u001b[1;33m,\u001b[0m\u001b[1;33m\u001b[0m\u001b[1;33m\u001b[0m\u001b[0m\n\u001b[1;32m--> 614\u001b[1;33m         \u001b[0mstorage_options\u001b[0m\u001b[1;33m=\u001b[0m\u001b[0mstorage_options\u001b[0m\u001b[1;33m,\u001b[0m\u001b[1;33m\u001b[0m\u001b[1;33m\u001b[0m\u001b[0m\n\u001b[0m\u001b[0;32m    615\u001b[0m     )\n\u001b[0;32m    616\u001b[0m \u001b[1;33m\u001b[0m\u001b[0m\n",
      "\u001b[1;32m~\\Anaconda3\\envs\\test_python\\lib\\site-packages\\pandas\\io\\common.py\u001b[0m in \u001b[0;36m_get_filepath_or_buffer\u001b[1;34m(filepath_or_buffer, encoding, compression, mode, storage_options)\u001b[0m\n\u001b[0;32m    310\u001b[0m         \u001b[1;31m# assuming storage_options is to be interpreted as headers\u001b[0m\u001b[1;33m\u001b[0m\u001b[1;33m\u001b[0m\u001b[1;33m\u001b[0m\u001b[0m\n\u001b[0;32m    311\u001b[0m         \u001b[0mreq_info\u001b[0m \u001b[1;33m=\u001b[0m \u001b[0murllib\u001b[0m\u001b[1;33m.\u001b[0m\u001b[0mrequest\u001b[0m\u001b[1;33m.\u001b[0m\u001b[0mRequest\u001b[0m\u001b[1;33m(\u001b[0m\u001b[0mfilepath_or_buffer\u001b[0m\u001b[1;33m,\u001b[0m \u001b[0mheaders\u001b[0m\u001b[1;33m=\u001b[0m\u001b[0mstorage_options\u001b[0m\u001b[1;33m)\u001b[0m\u001b[1;33m\u001b[0m\u001b[1;33m\u001b[0m\u001b[0m\n\u001b[1;32m--> 312\u001b[1;33m         \u001b[1;32mwith\u001b[0m \u001b[0murlopen\u001b[0m\u001b[1;33m(\u001b[0m\u001b[0mreq_info\u001b[0m\u001b[1;33m)\u001b[0m \u001b[1;32mas\u001b[0m \u001b[0mreq\u001b[0m\u001b[1;33m:\u001b[0m\u001b[1;33m\u001b[0m\u001b[1;33m\u001b[0m\u001b[0m\n\u001b[0m\u001b[0;32m    313\u001b[0m             \u001b[0mcontent_encoding\u001b[0m \u001b[1;33m=\u001b[0m \u001b[0mreq\u001b[0m\u001b[1;33m.\u001b[0m\u001b[0mheaders\u001b[0m\u001b[1;33m.\u001b[0m\u001b[0mget\u001b[0m\u001b[1;33m(\u001b[0m\u001b[1;34m\"Content-Encoding\"\u001b[0m\u001b[1;33m,\u001b[0m \u001b[1;32mNone\u001b[0m\u001b[1;33m)\u001b[0m\u001b[1;33m\u001b[0m\u001b[1;33m\u001b[0m\u001b[0m\n\u001b[0;32m    314\u001b[0m             \u001b[1;32mif\u001b[0m \u001b[0mcontent_encoding\u001b[0m \u001b[1;33m==\u001b[0m \u001b[1;34m\"gzip\"\u001b[0m\u001b[1;33m:\u001b[0m\u001b[1;33m\u001b[0m\u001b[1;33m\u001b[0m\u001b[0m\n",
      "\u001b[1;32m~\\Anaconda3\\envs\\test_python\\lib\\site-packages\\pandas\\io\\common.py\u001b[0m in \u001b[0;36murlopen\u001b[1;34m(*args, **kwargs)\u001b[0m\n\u001b[0;32m    210\u001b[0m     \u001b[1;32mimport\u001b[0m \u001b[0murllib\u001b[0m\u001b[1;33m.\u001b[0m\u001b[0mrequest\u001b[0m\u001b[1;33m\u001b[0m\u001b[1;33m\u001b[0m\u001b[0m\n\u001b[0;32m    211\u001b[0m \u001b[1;33m\u001b[0m\u001b[0m\n\u001b[1;32m--> 212\u001b[1;33m     \u001b[1;32mreturn\u001b[0m \u001b[0murllib\u001b[0m\u001b[1;33m.\u001b[0m\u001b[0mrequest\u001b[0m\u001b[1;33m.\u001b[0m\u001b[0murlopen\u001b[0m\u001b[1;33m(\u001b[0m\u001b[1;33m*\u001b[0m\u001b[0margs\u001b[0m\u001b[1;33m,\u001b[0m \u001b[1;33m**\u001b[0m\u001b[0mkwargs\u001b[0m\u001b[1;33m)\u001b[0m\u001b[1;33m\u001b[0m\u001b[1;33m\u001b[0m\u001b[0m\n\u001b[0m\u001b[0;32m    213\u001b[0m \u001b[1;33m\u001b[0m\u001b[0m\n\u001b[0;32m    214\u001b[0m \u001b[1;33m\u001b[0m\u001b[0m\n",
      "\u001b[1;32m~\\Anaconda3\\envs\\test_python\\lib\\urllib\\request.py\u001b[0m in \u001b[0;36murlopen\u001b[1;34m(url, data, timeout, cafile, capath, cadefault, context)\u001b[0m\n\u001b[0;32m    220\u001b[0m     \u001b[1;32melse\u001b[0m\u001b[1;33m:\u001b[0m\u001b[1;33m\u001b[0m\u001b[1;33m\u001b[0m\u001b[0m\n\u001b[0;32m    221\u001b[0m         \u001b[0mopener\u001b[0m \u001b[1;33m=\u001b[0m \u001b[0m_opener\u001b[0m\u001b[1;33m\u001b[0m\u001b[1;33m\u001b[0m\u001b[0m\n\u001b[1;32m--> 222\u001b[1;33m     \u001b[1;32mreturn\u001b[0m \u001b[0mopener\u001b[0m\u001b[1;33m.\u001b[0m\u001b[0mopen\u001b[0m\u001b[1;33m(\u001b[0m\u001b[0murl\u001b[0m\u001b[1;33m,\u001b[0m \u001b[0mdata\u001b[0m\u001b[1;33m,\u001b[0m \u001b[0mtimeout\u001b[0m\u001b[1;33m)\u001b[0m\u001b[1;33m\u001b[0m\u001b[1;33m\u001b[0m\u001b[0m\n\u001b[0m\u001b[0;32m    223\u001b[0m \u001b[1;33m\u001b[0m\u001b[0m\n\u001b[0;32m    224\u001b[0m \u001b[1;32mdef\u001b[0m \u001b[0minstall_opener\u001b[0m\u001b[1;33m(\u001b[0m\u001b[0mopener\u001b[0m\u001b[1;33m)\u001b[0m\u001b[1;33m:\u001b[0m\u001b[1;33m\u001b[0m\u001b[1;33m\u001b[0m\u001b[0m\n",
      "\u001b[1;32m~\\Anaconda3\\envs\\test_python\\lib\\urllib\\request.py\u001b[0m in \u001b[0;36mopen\u001b[1;34m(self, fullurl, data, timeout)\u001b[0m\n\u001b[0;32m    529\u001b[0m         \u001b[1;32mfor\u001b[0m \u001b[0mprocessor\u001b[0m \u001b[1;32min\u001b[0m \u001b[0mself\u001b[0m\u001b[1;33m.\u001b[0m\u001b[0mprocess_response\u001b[0m\u001b[1;33m.\u001b[0m\u001b[0mget\u001b[0m\u001b[1;33m(\u001b[0m\u001b[0mprotocol\u001b[0m\u001b[1;33m,\u001b[0m \u001b[1;33m[\u001b[0m\u001b[1;33m]\u001b[0m\u001b[1;33m)\u001b[0m\u001b[1;33m:\u001b[0m\u001b[1;33m\u001b[0m\u001b[1;33m\u001b[0m\u001b[0m\n\u001b[0;32m    530\u001b[0m             \u001b[0mmeth\u001b[0m \u001b[1;33m=\u001b[0m \u001b[0mgetattr\u001b[0m\u001b[1;33m(\u001b[0m\u001b[0mprocessor\u001b[0m\u001b[1;33m,\u001b[0m \u001b[0mmeth_name\u001b[0m\u001b[1;33m)\u001b[0m\u001b[1;33m\u001b[0m\u001b[1;33m\u001b[0m\u001b[0m\n\u001b[1;32m--> 531\u001b[1;33m             \u001b[0mresponse\u001b[0m \u001b[1;33m=\u001b[0m \u001b[0mmeth\u001b[0m\u001b[1;33m(\u001b[0m\u001b[0mreq\u001b[0m\u001b[1;33m,\u001b[0m \u001b[0mresponse\u001b[0m\u001b[1;33m)\u001b[0m\u001b[1;33m\u001b[0m\u001b[1;33m\u001b[0m\u001b[0m\n\u001b[0m\u001b[0;32m    532\u001b[0m \u001b[1;33m\u001b[0m\u001b[0m\n\u001b[0;32m    533\u001b[0m         \u001b[1;32mreturn\u001b[0m \u001b[0mresponse\u001b[0m\u001b[1;33m\u001b[0m\u001b[1;33m\u001b[0m\u001b[0m\n",
      "\u001b[1;32m~\\Anaconda3\\envs\\test_python\\lib\\urllib\\request.py\u001b[0m in \u001b[0;36mhttp_response\u001b[1;34m(self, request, response)\u001b[0m\n\u001b[0;32m    639\u001b[0m         \u001b[1;32mif\u001b[0m \u001b[1;32mnot\u001b[0m \u001b[1;33m(\u001b[0m\u001b[1;36m200\u001b[0m \u001b[1;33m<=\u001b[0m \u001b[0mcode\u001b[0m \u001b[1;33m<\u001b[0m \u001b[1;36m300\u001b[0m\u001b[1;33m)\u001b[0m\u001b[1;33m:\u001b[0m\u001b[1;33m\u001b[0m\u001b[1;33m\u001b[0m\u001b[0m\n\u001b[0;32m    640\u001b[0m             response = self.parent.error(\n\u001b[1;32m--> 641\u001b[1;33m                 'http', request, response, code, msg, hdrs)\n\u001b[0m\u001b[0;32m    642\u001b[0m \u001b[1;33m\u001b[0m\u001b[0m\n\u001b[0;32m    643\u001b[0m         \u001b[1;32mreturn\u001b[0m \u001b[0mresponse\u001b[0m\u001b[1;33m\u001b[0m\u001b[1;33m\u001b[0m\u001b[0m\n",
      "\u001b[1;32m~\\Anaconda3\\envs\\test_python\\lib\\urllib\\request.py\u001b[0m in \u001b[0;36merror\u001b[1;34m(self, proto, *args)\u001b[0m\n\u001b[0;32m    567\u001b[0m         \u001b[1;32mif\u001b[0m \u001b[0mhttp_err\u001b[0m\u001b[1;33m:\u001b[0m\u001b[1;33m\u001b[0m\u001b[1;33m\u001b[0m\u001b[0m\n\u001b[0;32m    568\u001b[0m             \u001b[0margs\u001b[0m \u001b[1;33m=\u001b[0m \u001b[1;33m(\u001b[0m\u001b[0mdict\u001b[0m\u001b[1;33m,\u001b[0m \u001b[1;34m'default'\u001b[0m\u001b[1;33m,\u001b[0m \u001b[1;34m'http_error_default'\u001b[0m\u001b[1;33m)\u001b[0m \u001b[1;33m+\u001b[0m \u001b[0morig_args\u001b[0m\u001b[1;33m\u001b[0m\u001b[1;33m\u001b[0m\u001b[0m\n\u001b[1;32m--> 569\u001b[1;33m             \u001b[1;32mreturn\u001b[0m \u001b[0mself\u001b[0m\u001b[1;33m.\u001b[0m\u001b[0m_call_chain\u001b[0m\u001b[1;33m(\u001b[0m\u001b[1;33m*\u001b[0m\u001b[0margs\u001b[0m\u001b[1;33m)\u001b[0m\u001b[1;33m\u001b[0m\u001b[1;33m\u001b[0m\u001b[0m\n\u001b[0m\u001b[0;32m    570\u001b[0m \u001b[1;33m\u001b[0m\u001b[0m\n\u001b[0;32m    571\u001b[0m \u001b[1;31m# XXX probably also want an abstract factory that knows when it makes\u001b[0m\u001b[1;33m\u001b[0m\u001b[1;33m\u001b[0m\u001b[1;33m\u001b[0m\u001b[0m\n",
      "\u001b[1;32m~\\Anaconda3\\envs\\test_python\\lib\\urllib\\request.py\u001b[0m in \u001b[0;36m_call_chain\u001b[1;34m(self, chain, kind, meth_name, *args)\u001b[0m\n\u001b[0;32m    501\u001b[0m         \u001b[1;32mfor\u001b[0m \u001b[0mhandler\u001b[0m \u001b[1;32min\u001b[0m \u001b[0mhandlers\u001b[0m\u001b[1;33m:\u001b[0m\u001b[1;33m\u001b[0m\u001b[1;33m\u001b[0m\u001b[0m\n\u001b[0;32m    502\u001b[0m             \u001b[0mfunc\u001b[0m \u001b[1;33m=\u001b[0m \u001b[0mgetattr\u001b[0m\u001b[1;33m(\u001b[0m\u001b[0mhandler\u001b[0m\u001b[1;33m,\u001b[0m \u001b[0mmeth_name\u001b[0m\u001b[1;33m)\u001b[0m\u001b[1;33m\u001b[0m\u001b[1;33m\u001b[0m\u001b[0m\n\u001b[1;32m--> 503\u001b[1;33m             \u001b[0mresult\u001b[0m \u001b[1;33m=\u001b[0m \u001b[0mfunc\u001b[0m\u001b[1;33m(\u001b[0m\u001b[1;33m*\u001b[0m\u001b[0margs\u001b[0m\u001b[1;33m)\u001b[0m\u001b[1;33m\u001b[0m\u001b[1;33m\u001b[0m\u001b[0m\n\u001b[0m\u001b[0;32m    504\u001b[0m             \u001b[1;32mif\u001b[0m \u001b[0mresult\u001b[0m \u001b[1;32mis\u001b[0m \u001b[1;32mnot\u001b[0m \u001b[1;32mNone\u001b[0m\u001b[1;33m:\u001b[0m\u001b[1;33m\u001b[0m\u001b[1;33m\u001b[0m\u001b[0m\n\u001b[0;32m    505\u001b[0m                 \u001b[1;32mreturn\u001b[0m \u001b[0mresult\u001b[0m\u001b[1;33m\u001b[0m\u001b[1;33m\u001b[0m\u001b[0m\n",
      "\u001b[1;32m~\\Anaconda3\\envs\\test_python\\lib\\urllib\\request.py\u001b[0m in \u001b[0;36mhttp_error_default\u001b[1;34m(self, req, fp, code, msg, hdrs)\u001b[0m\n\u001b[0;32m    647\u001b[0m \u001b[1;32mclass\u001b[0m \u001b[0mHTTPDefaultErrorHandler\u001b[0m\u001b[1;33m(\u001b[0m\u001b[0mBaseHandler\u001b[0m\u001b[1;33m)\u001b[0m\u001b[1;33m:\u001b[0m\u001b[1;33m\u001b[0m\u001b[1;33m\u001b[0m\u001b[0m\n\u001b[0;32m    648\u001b[0m     \u001b[1;32mdef\u001b[0m \u001b[0mhttp_error_default\u001b[0m\u001b[1;33m(\u001b[0m\u001b[0mself\u001b[0m\u001b[1;33m,\u001b[0m \u001b[0mreq\u001b[0m\u001b[1;33m,\u001b[0m \u001b[0mfp\u001b[0m\u001b[1;33m,\u001b[0m \u001b[0mcode\u001b[0m\u001b[1;33m,\u001b[0m \u001b[0mmsg\u001b[0m\u001b[1;33m,\u001b[0m \u001b[0mhdrs\u001b[0m\u001b[1;33m)\u001b[0m\u001b[1;33m:\u001b[0m\u001b[1;33m\u001b[0m\u001b[1;33m\u001b[0m\u001b[0m\n\u001b[1;32m--> 649\u001b[1;33m         \u001b[1;32mraise\u001b[0m \u001b[0mHTTPError\u001b[0m\u001b[1;33m(\u001b[0m\u001b[0mreq\u001b[0m\u001b[1;33m.\u001b[0m\u001b[0mfull_url\u001b[0m\u001b[1;33m,\u001b[0m \u001b[0mcode\u001b[0m\u001b[1;33m,\u001b[0m \u001b[0mmsg\u001b[0m\u001b[1;33m,\u001b[0m \u001b[0mhdrs\u001b[0m\u001b[1;33m,\u001b[0m \u001b[0mfp\u001b[0m\u001b[1;33m)\u001b[0m\u001b[1;33m\u001b[0m\u001b[1;33m\u001b[0m\u001b[0m\n\u001b[0m\u001b[0;32m    650\u001b[0m \u001b[1;33m\u001b[0m\u001b[0m\n\u001b[0;32m    651\u001b[0m \u001b[1;32mclass\u001b[0m \u001b[0mHTTPRedirectHandler\u001b[0m\u001b[1;33m(\u001b[0m\u001b[0mBaseHandler\u001b[0m\u001b[1;33m)\u001b[0m\u001b[1;33m:\u001b[0m\u001b[1;33m\u001b[0m\u001b[1;33m\u001b[0m\u001b[0m\n",
      "\u001b[1;31mHTTPError\u001b[0m: HTTP Error 404: Not Found"
     ]
    }
   ],
   "source": [
    "# this was stolen from:\n",
    "# https://github.com/DataMettle/eurovision/blob/master/Modelling%20Eurovision%20voting%20patterns.ipynb\n",
    "\n",
    "\n",
    "# Download the file: Done!\n",
    "# https://www.naturalearthdata.com/http//www.naturalearthdata.com/download/10m/cultural/ne_10m_admin_0_countries.zip\n",
    "# and place the contents of the zip in the data folder.\n",
    "\n",
    "country_codes = pd.read_csv(full_path('country_codes.csv'))\n",
    "\n",
    "shapefile = full_path('ne_10m_admin_0_countries.shp')\n",
    "shape = gpd.read_file(shapefile)\n",
    "gdf = shape.to_crs(\"+init=epsg:3035\")\n",
    "gdf_australia = shape.to_crs(\"+init=epsg:3577\")\n",
    "\n",
    "# Each country needs to be outputted with a label..\n",
    "# take this from our network outputs\n",
    "# clusters_df = pd.DataFrame(\n",
    "#     {\n",
    "#         'Country': countries,\n",
    "#         'cluster': clusters,\n",
    "#     }\n",
    "# )\n",
    "\n",
    "\n",
    "def merge_with_map(map_df, country_codes):\n",
    "    \"\"\"Adds full country names to country codes. Also adjusts some country names.\"\"\"\n",
    "    return (\n",
    "        pd.merge(map_df, country_codes)\n",
    "        .replace({'Russian Federation': 'Russia',\n",
    "                  'Netherlands': 'The Netherlands',\n",
    "                  'Czechia': 'Czech Republic',\n",
    "                  'Bosnia and Herzegovina': 'Bosnia & Herzegovina',\n",
    "                  'Moldova, Republic of': 'Moldova',\n",
    "                  'Macedonia, the former Yugoslav Republic of': 'F.Y.R. Macedonia'})\n",
    "    )\n",
    "\n",
    "eurovision_map = merge_with_map(gdf, country_codes)\n",
    "\n",
    "eurovision_map_australia = merge_with_map(gdf_australia, country_codes)"
   ]
  },
  {
   "cell_type": "code",
   "execution_count": null,
   "metadata": {
    "scrolled": true
   },
   "outputs": [],
   "source": [
    "# This is straight up stolen from kaggle so probably change parts of it if we want to use it!\n",
    "\n",
    "from mpl_toolkits.axes_grid1.inset_locator import inset_axes\n",
    "\n",
    "f, ax = plt.subplots(1, figsize=(11, 10))\n",
    "f.subplots_adjust(hspace=0.0, wspace=0.0)\n",
    "gdf.plot(ax=ax, color='lightgrey')\n",
    "\n",
    "eurovision_map_cluster = pd.merge(eurovision_map, clusters_df, left_on='Country name', right_on='Country')\n",
    "\n",
    "\n",
    "# Gonna have to change the cmap s.t. any number of colors are taken.. maybe some viridis color pallete or something\n",
    "eurovision_map_cluster[eurovision_map_cluster['cluster'] == 0].plot(ax=ax,\n",
    "                                                                    color='r',\n",
    "                                                                    vmin=-0.05)\n",
    "eurovision_map_cluster[eurovision_map_cluster['cluster'] == 1].plot(ax=ax,\n",
    "                                                                    vmin=-0.05)\n",
    "\n",
    "eurovision_map_australia_cluster = pd.merge(eurovision_map_australia, clusters_df, left_on='Country name', right_on='Country')\n",
    "inset_ax = inset_axes(ax, \n",
    "                      width=1.5*(2.5/1.5),\n",
    "                      height=1.2*(2.5/1.5),\n",
    "                      loc=1)\n",
    "gdf_australia.plot(ax=inset_ax, color='lightgrey')\n",
    "eurovision_map_australia_cluster.plot(ax=inset_ax,\n",
    "                                      cmap='Purples',\n",
    "                                      vmin=-0.05)\n",
    "inset_ax.set_xlim(-0.21e7, 0.22e7)\n",
    "inset_ax.set_ylim(-0.49e7, -0.1e7)\n",
    "inset_ax.axes.get_xaxis().set_visible(False)\n",
    "inset_ax.axes.get_yaxis().set_visible(False)\n",
    "\n",
    "# eurovision_map_cluster[eurovision_map_cluster['cluster'] == 2].plot(ax=ax,\n",
    "#                                                                     color='g',\n",
    "#                                                                     vmin=-0.05)\n",
    "# eurovision_map_cluster[eurovision_map_cluster['cluster'] == 3].plot(ax=ax,\n",
    "#                                                                     color='y',\n",
    "#                                                                     vmin=-0.05)\n",
    "# eurovision_map_cluster[eurovision_map_cluster['cluster'] == 4].plot(ax=ax,\n",
    "#                                                                     color='m',\n",
    "#                                                                     vmin=-0.05)\n",
    "# eurovision_map_cluster[eurovision_map_cluster['cluster'] == 5].plot(ax=ax,\n",
    "#                                                                     color='purple',\n",
    "#                                                                     vmin=-0.05)\n",
    "\n",
    "ax.set_xlim(0.25e7, 0.77e7)\n",
    "ax.set_ylim(0.10e7, 0.56e7)\n",
    "ax.axes.get_xaxis().set_visible(False)\n",
    "ax.axes.get_yaxis().set_visible(False)\n",
    "# plt.savefig('images/clusters_map.png', bbox_inches='tight', dpi=150)"
   ]
  },
  {
   "cell_type": "code",
   "execution_count": null,
   "metadata": {},
   "outputs": [],
   "source": [
    "# # load geographic coordinate system for countries\n",
    "import csv\n",
    "country = [row[0].strip() for row in csv.reader(open(full_path(\"LonLat.csv\")), delimiter=';')]    # clear spaces\n",
    "\n",
    "country_coords = pd.read_csv(full_path(\"LonLat.csv\"), delimiter=\";\", \n",
    "                  names=[\"Country\", \"Lat\", \"Lon\"])\n",
    "country_coords"
   ]
  },
  {
   "cell_type": "code",
   "execution_count": null,
   "metadata": {},
   "outputs": [],
   "source": [
    "# data load ins for the MRQAP\n",
    "\n",
    "distance_data = proc_distance(\"LonLat.csv\")\n",
    "point_shares = testererer.groupby([\"From country\", \"To country\"]).sum()\n",
    "point_shares = point_shares.reset_index()\n",
    "point_shares.columns = [c.replace(' ', '_') for c in point_shares.columns]\n",
    "bilateral_flows = pd.read_csv(full_path(\"BACI_trade_data.csv\"),  encoding='latin-1')\n"
   ]
  },
  {
   "cell_type": "code",
   "execution_count": null,
   "metadata": {},
   "outputs": [],
   "source": [
    "# Generating an intersection of the countries s.t. there are only mutual countries in each dataframe..\n",
    "\n",
    "acceptable_countries = list(set(distance_data[\"Country_A\"]).intersection(point_shares[\"To_country\"].unique()))\n",
    "acceptable_countries = list(set(acceptable_countries).intersection(bilateral_flows[\"From_country\"].unique()))\n",
    "\n",
    "distance_data = distance_data[(distance_data['Country_A'].isin(acceptable_countries)) & (distance_data['Country_B'].isin(acceptable_countries))]\n",
    "point_shares = point_shares[(point_shares[\"To_country\"].isin(acceptable_countries)) & (point_shares['From_country'].isin(acceptable_countries))]\n",
    "bilateral_flows = bilateral_flows[(bilateral_flows[\"To_country\"].isin(acceptable_countries)) & (bilateral_flows['From_country'].isin(acceptable_countries))]\n",
    "\n",
    "\n"
   ]
  },
  {
   "cell_type": "code",
   "execution_count": null,
   "metadata": {},
   "outputs": [],
   "source": [
    "# getting the average points for the dependent variable in our QAP\n",
    "point_shares = point_shares[(point_shares['From_country'].isin(acceptable_countries)) & (point_shares['To_country'].isin(acceptable_countries))]\n",
    "\n",
    "# can check if points instead of average_points is to be used here....\n",
    "point_shares = point_shares.drop(['Year', 'Points', 'sum_senders', 'sum_receivers', 'Contests_Shared'], axis=1)\n",
    "point_shares = point_shares.drop(point_shares.columns[2], axis=1)\n",
    "point_shares\n",
    "\n",
    "df = pd.crosstab(point_shares.From_country, point_shares.To_country, point_shares.average_points, aggfunc=sum)\n",
    "idx = df.columns.union(df.index)\n",
    "df = df.reindex(index = idx, columns=idx, fill_value=0)\n",
    "df_points = df.fillna(0)\n",
    "# df_points = df_points + df_points.T - np.diag(np.diag(df_points))\n",
    "df_points"
   ]
  },
  {
   "cell_type": "code",
   "execution_count": null,
   "metadata": {},
   "outputs": [],
   "source": [
    "# # How to get adjacency matrix...\n",
    "# df = pd.crosstab(gdp_data.matches, gdp_data.matches, gdp_data.GDP_PPP_2017_dol, aggfunc=sum)\n",
    "# idx = df.columns.union(df.index)\n",
    "# df = df.reindex(index = idx, columns=idx, fill_value=0)\n",
    "# df_gdp = df.fillna(0)\n",
    "# df_gdp"
   ]
  },
  {
   "cell_type": "code",
   "execution_count": null,
   "metadata": {},
   "outputs": [],
   "source": [
    "# This section is included for clarity, the data loaded here is too large for github so it was subsetted then saved later!\n",
    "\n",
    "# trade_names = pd.read_csv(full_path(\"country_codes_V202201.csv\"),  encoding='latin-1')\n",
    "\n",
    "# trade_dict = trade_names[trade_names[\"country_name_abbreviation\"].isin(english[\"matches\"])][[\"country_code\", \"country_name_abbreviation\"]]\n",
    "# trade_dict = trade_dict.set_index('country_code')\n",
    "# trade_dict = trade_dict.to_dict()\n",
    "\n",
    "# trade_data = pd.read_csv(full_path(\"BACI_HS17_Y2017_V202201.csv\"),  encoding='latin-1')\n",
    "# bilateral_flows = trade_data.groupby(['i', 'j']).sum()\n",
    "# bilateral_flows = bilateral_flows.reset_index()\n",
    "# # print(trade_dict['country_name_abbreviation'].keys())\n",
    "# bilateral_flows = bilateral_flows[bilateral_flows[\"i\"].isin(trade_dict['country_name_abbreviation'].keys())]\n",
    "# bilateral_flows = bilateral_flows.replace(trade_dict['country_name_abbreviation'])\n",
    "# bilateral_flows = bilateral_flows[bilateral_flows[\"j\"].isin(trade_dict['country_name_abbreviation'].values())]\n",
    "# bilateral_flows = bilateral_flows.rename(columns = {'i':'From_country', 'j':'To_country', 'v':'Value'}).drop(['t', 'k'], axis = 1)\n",
    "# bilateral_flows"
   ]
  },
  {
   "cell_type": "code",
   "execution_count": null,
   "metadata": {},
   "outputs": [],
   "source": [
    "df_trade = pd.crosstab(bilateral_flows.From_country, bilateral_flows.To_country, bilateral_flows.Value, aggfunc=sum)\n",
    "idx = df_trade.columns.union(df_trade.index)\n",
    "df_trade = df_trade.reindex(index = idx, columns=idx, fill_value=0)\n",
    "df_trade = df_trade.fillna(0)\n",
    "# df_eng = df_eng + df_eng.T - np.diag(np.diag(df_eng))\n",
    "df_trade = round(np.log10(df_trade+1), 2)\n",
    "df_trade"
   ]
  },
  {
   "cell_type": "code",
   "execution_count": null,
   "metadata": {},
   "outputs": [],
   "source": [
    "# How to get adjacency matrix...\n",
    "df = pd.crosstab(distance_data.Country_A, distance_data.Country_B, distance_data.Distance, aggfunc=sum)\n",
    "idx = df.columns.union(df.index)\n",
    "df = df.reindex(index = idx, columns=idx, fill_value=0)\n",
    "df_dist = df.fillna(0)\n",
    "df_dist2 = np.log10(df_dist+1)\n",
    "df_dist2"
   ]
  },
  {
   "cell_type": "code",
   "execution_count": null,
   "metadata": {},
   "outputs": [],
   "source": [
    "#######################################################################\n",
    "# Constants\n",
    "#######################################################################\n",
    "NCOUNTRIES = len(acceptable_countries)\n",
    "DIRECTED = True\n",
    "NPERMUTATIONS = 3500"
   ]
  },
  {
   "cell_type": "code",
   "execution_count": null,
   "metadata": {},
   "outputs": [],
   "source": [
    "# X = {'TRADE':df_trade.to_numpy(), 'Dist':df_dist2.to_numpy()}\n",
    "\n",
    "# Alternative simpler \n",
    "X = {'Dist':df_dist2.to_numpy()}\n",
    "\n",
    "Y = {'Points':df_points.to_numpy()}"
   ]
  },
  {
   "cell_type": "code",
   "execution_count": null,
   "metadata": {},
   "outputs": [],
   "source": [
    "# Issue: english and GDP are not shared values... maybe it is best to create some comparison df\n",
    "mrqap = MRQAP(Y=Y, X=X, npermutations=NPERMUTATIONS, diagonal=False, directed=True)\n",
    "mrqap.mrqap()"
   ]
  },
  {
   "cell_type": "code",
   "execution_count": null,
   "metadata": {},
   "outputs": [],
   "source": [
    "# Looks like value of bilateral trade is VERY important here!\n",
    "mrqap.summary()\n"
   ]
  },
  {
   "cell_type": "code",
   "execution_count": null,
   "metadata": {},
   "outputs": [],
   "source": [
    "%matplotlib inline  \n",
    "mrqap.plot('betas', fn=None)"
   ]
  }
 ],
 "metadata": {
  "kernelspec": {
   "display_name": "Python 3",
   "language": "python",
   "name": "python3"
  },
  "language_info": {
   "codemirror_mode": {
    "name": "ipython",
    "version": 3
   },
   "file_extension": ".py",
   "mimetype": "text/x-python",
   "name": "python",
   "nbconvert_exporter": "python",
   "pygments_lexer": "ipython3",
   "version": "3.7.4"
  }
 },
 "nbformat": 4,
 "nbformat_minor": 2
}
