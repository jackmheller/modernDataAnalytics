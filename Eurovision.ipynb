{
 "cells": [
  {
   "cell_type": "code",
   "execution_count": 1,
   "id": "2b20f1a2",
   "metadata": {},
   "outputs": [],
   "source": [
    "from py2neo import Graph,Node,Relationship\n",
    "import pandas as pd\n",
    "import matplotlib.pyplot as plt\n"
   ]
  },
  {
   "cell_type": "code",
   "execution_count": 22,
   "id": "9c5338a3",
   "metadata": {},
   "outputs": [],
   "source": [
    "graph = Graph(\"bolt://localhost:7687\", auth=(\"neo4j\", \"movie\"))"
   ]
  },
  {
   "cell_type": "code",
   "execution_count": 24,
   "id": "eefebf4c",
   "metadata": {},
   "outputs": [
    {
     "name": "stdout",
     "output_type": "stream",
     "text": [
      "No. of country nodes is 46\n"
     ]
    }
   ],
   "source": [
    "#Cypher Query\n",
    "number_of_country_nodes=\"MATCH(p:Country) RETURN Count(p)\"\n",
    "\n",
    "#Evaluate the Cypher query\n",
    "result_countries=graph.evaluate(number_of_country_nodes)\n",
    "\n",
    "#Print the result\n",
    "print(f\"No. of country nodes is {result_countries}\")"
   ]
  },
  {
   "cell_type": "code",
   "execution_count": 25,
   "id": "cc9060ff",
   "metadata": {},
   "outputs": [
    {
     "data": {
      "text/plain": [
       "Text(0, 0.5, 'No Of Nodes')"
      ]
     },
     "execution_count": 25,
     "metadata": {},
     "output_type": "execute_result"
    },
    {
     "data": {
      "image/png": "[encoded data removed]",
      "text/plain": [
       "<Figure size 432x288 with 1 Axes>"
      ]
     },
     "metadata": {
      "needs_background": "light"
     },
     "output_type": "display_data"
    }
   ],
   "source": [
    "df_result_count=pd.Series({'Person':result_countries})\n",
    "df_result_count.plot(kind='bar',color=['blue'])\n",
    "plt.xlabel('Node Label')\n",
    "plt.ylabel('No Of Nodes')"
   ]
  },
  {
   "cell_type": "code",
   "execution_count": null,
   "id": "34545bd3",
   "metadata": {},
   "outputs": [],
   "source": []
  }
 ],
 "metadata": {
  "kernelspec": {
   "display_name": "Python 3",
   "language": "python",
   "name": "python3"
  },
  "language_info": {
   "codemirror_mode": {
    "name": "ipython",
    "version": 3
   },
   "file_extension": ".py",
   "mimetype": "text/x-python",
   "name": "python",
   "nbconvert_exporter": "python",
   "pygments_lexer": "ipython3",
   "version": "3.8.8"
  }
 },
 "nbformat": 4,
 "nbformat_minor": 5
}
