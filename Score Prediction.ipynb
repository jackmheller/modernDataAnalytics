{
 "cells": [
  {
   "cell_type": "code",
   "execution_count": 43,
   "id": "b9aff9a2",
   "metadata": {},
   "outputs": [],
   "source": [
    "import pandas as pd\n",
    "import numpy as np \n",
    "import matplotlib.pyplot as plt\n",
    "\n",
    "import sklearn as skl\n",
    "from sklearn import preprocessing\n",
    "from sklearn.metrics import classification_report, confusion_matrix\n",
    "from sklearn.ensemble import GradientBoostingClassifier\n",
    "from sklearn import ensemble\n",
    "\n",
    "import xgboost as xgb\n",
    "from xgboost import XGBClassifier\n"
   ]
  },
  {
   "cell_type": "code",
   "execution_count": 54,
   "id": "a75cb3dc",
   "metadata": {},
   "outputs": [],
   "source": [
    "df = pd.read_excel('eurovision_song_contest_1975_2022.xlsx')"
   ]
  },
  {
   "cell_type": "code",
   "execution_count": 55,
   "id": "cd1ef8d3",
   "metadata": {},
   "outputs": [],
   "source": [
    "#Removing unwanted observations and columns\n",
    "df = df.drop(df.index[df['Duplicate'] == 'x'])\n",
    "df = df.drop(['Edition', 'Duplicate',], axis = 1)\n",
    "df = df.drop(df.index[df['Year'] < 2008]) #Dropping the years before 2008\n",
    "#Replacing Country names\n",
    "df = df.replace(to_replace =\"F.Y.R. Macedonia\",\n",
    "                 value =\"North Macedonia\")\n",
    "df = df.replace(to_replace =\"Macedonia\",\n",
    "                 value =\"North Macedonia\")\n",
    "df = df.replace(to_replace =\"Netherlands\",\n",
    "                 value =\"The Netherlands\")\n",
    "\n",
    "#Removing 0 values, and semi-final observations and Jury votes\n",
    "df = df.drop(df.index[df['Points      '] == 0])\n",
    "df = df.drop(df.index[df['(semi-) final']=='sf1'])\n",
    "df = df.drop(df.index[df['(semi-) final']=='sf2'])\n",
    "df = df.drop(df.index[df['Jury or Televoting']=='J'])\n",
    "df = df.reset_index()\n",
    "\n",
    "\n",
    "#Encoding string class values as integers\n",
    "le = preprocessing.LabelEncoder()\n",
    "df1=df\n",
    "df1['(semi-) final'] = le.fit_transform(df1['(semi-) final'].values)\n",
    "df1['Jury or Televoting'] = le.fit_transform(df1['Jury or Televoting'].values)\n",
    "df1['From country'] = le.fit_transform(df1['From country'].values)\n",
    "df1['To country'] = le.fit_transform(df1['To country'].values)"
   ]
  },
  {
   "cell_type": "markdown",
   "id": "a61c054e",
   "metadata": {},
   "source": [
    "### Gradient Boosting Classifier Method"
   ]
  },
  {
   "cell_type": "markdown",
   "id": "b74e957e",
   "metadata": {},
   "source": [
    "Prediction by using the points as classes."
   ]
  },
  {
   "cell_type": "code",
   "execution_count": 56,
   "id": "66e47099",
   "metadata": {},
   "outputs": [
    {
     "name": "stderr",
     "output_type": "stream",
     "text": [
      "C:\\Users\\eliza\\AppData\\Local\\Temp\\ipykernel_6248\\457015365.py:7: SettingWithCopyWarning: \n",
      "A value is trying to be set on a copy of a slice from a DataFrame\n",
      "\n",
      "See the caveats in the documentation: https://pandas.pydata.org/pandas-docs/stable/user_guide/indexing.html#returning-a-view-versus-a-copy\n",
      "  train_set.drop(labels='Points      ', axis=1, inplace=True)\n",
      "C:\\Users\\eliza\\AppData\\Local\\Temp\\ipykernel_6248\\457015365.py:12: SettingWithCopyWarning: \n",
      "A value is trying to be set on a copy of a slice from a DataFrame\n",
      "\n",
      "See the caveats in the documentation: https://pandas.pydata.org/pandas-docs/stable/user_guide/indexing.html#returning-a-view-versus-a-copy\n",
      "  test_set.drop(labels='Points      ', axis=1, inplace=True)\n"
     ]
    }
   ],
   "source": [
    "#We use the data from years 2008 to 2019, 2021 as train data and the data from 2022 as test data. \n",
    "#Categorizing the points into classes\n",
    "df1['Points      '] = pd.Categorical(df1['Points      '])\n",
    "#Train set\n",
    "train_set = df1[df1['Year'] < 2022]\n",
    "y_train = train_set['Points      ']\n",
    "train_set.drop(labels='Points      ', axis=1, inplace=True)\n",
    "\n",
    "#Test set\n",
    "test_set = df1[df1['Year'] == 2022]\n",
    "y_test = test_set['Points      ']\n",
    "test_set.drop(labels='Points      ', axis=1, inplace=True)"
   ]
  },
  {
   "cell_type": "code",
   "execution_count": 57,
   "id": "b2e771d1",
   "metadata": {},
   "outputs": [
    {
     "name": "stdout",
     "output_type": "stream",
     "text": [
      "Learning rate: {0:.3f} 0.05\n",
      "Accuracy score (training): 0.189\n",
      "Accuracy score (test): 0.100\n",
      "Learning rate: {0:.3f} 0.075\n",
      "Accuracy score (training): 0.188\n",
      "Accuracy score (test): 0.100\n",
      "Learning rate: {0:.3f} 0.1\n",
      "Accuracy score (training): 0.205\n",
      "Accuracy score (test): 0.100\n",
      "Learning rate: {0:.3f} 0.25\n",
      "Accuracy score (training): 0.232\n",
      "Accuracy score (test): 0.090\n",
      "Learning rate: {0:.3f} 0.5\n",
      "Accuracy score (training): 0.249\n",
      "Accuracy score (test): 0.100\n",
      "Learning rate: {0:.3f} 0.75\n",
      "Accuracy score (training): 0.261\n",
      "Accuracy score (test): 0.100\n",
      "Learning rate: {0:.3f} 1\n",
      "Accuracy score (training): 0.241\n",
      "Accuracy score (test): 0.103\n"
     ]
    }
   ],
   "source": [
    "#Setting different learning Rates in order to see which performs the best\n",
    "lr_list = [0.05, 0.075, 0.1, 0.25, 0.5, 0.75, 1]\n",
    "\n",
    "for learning_rate in lr_list:\n",
    "    gb_clf = GradientBoostingClassifier(n_estimators = 20, learning_rate = learning_rate, max_features=2, max_depth=2, random_state=0)\n",
    "    gb_clf.fit(train_set, y_train)\n",
    "    \n",
    "    print(\"Learning rate: {0:.3f}\", learning_rate)\n",
    "    print(\"Accuracy score (training): {0:.3f}\".format(gb_clf.score(train_set, y_train)))\n",
    "    print(\"Accuracy score (test): {0:.3f}\".format(gb_clf.score(test_set, y_test)))"
   ]
  },
  {
   "cell_type": "code",
   "execution_count": 59,
   "id": "c59a317f",
   "metadata": {},
   "outputs": [
    {
     "data": {
      "text/plain": [
       "array([10, 10, 10, 12, 12,  2, 12,  2,  4,  4, 10, 10, 12, 12, 12, 12,  2,\n",
       "        2,  4,  4,  2,  2,  2,  2,  2,  2,  2,  2,  4,  4, 10,  2,  2,  2,\n",
       "        2,  2,  2,  2,  4,  4, 10, 10,  2,  2,  2,  2,  2,  2,  4,  4,  2,\n",
       "        2,  2,  2,  2,  2,  2,  2,  4,  4, 10, 10,  2,  2,  2,  2,  2,  2,\n",
       "        4,  4, 10, 10,  2,  2,  2,  2,  2,  2,  2,  4, 10, 10,  2,  2,  2,\n",
       "        2,  2,  2,  4,  4, 10, 10,  2,  2,  2,  2,  2,  2,  4,  4, 10,  2,\n",
       "        2,  2,  2,  2,  2,  2,  4,  4, 10, 10,  2,  2,  2,  2,  2,  2,  4,\n",
       "        4, 10, 10,  2,  2,  2,  2,  2,  2,  4,  4,  2,  2,  2,  2,  2,  2,\n",
       "        2,  2,  4,  4,  2,  3, 10, 10,  2,  2,  2,  2,  4,  4,  2,  2,  2,\n",
       "        2,  2,  2,  2,  2,  4,  4, 10,  2,  2,  2,  2,  2,  2,  2,  4,  4,\n",
       "        2,  2,  2,  2,  2,  2,  2,  2,  4,  4,  2,  2,  2,  2,  2,  2,  2,\n",
       "        2,  4,  4,  2,  2,  2,  2,  2,  2,  2,  2,  4,  4,  2,  2,  2,  2,\n",
       "        2,  2,  2,  2,  4,  4, 10, 10,  2,  2,  2,  2,  2,  2,  4,  4, 10,\n",
       "        2,  2,  2,  2,  2,  2,  2,  4,  4, 10,  2,  2,  2,  2,  2,  2,  2,\n",
       "        4,  4, 10, 10, 10,  2,  2,  2,  2,  2,  4,  4, 10,  2,  2,  2,  2,\n",
       "        2,  2,  2,  2,  4, 10, 10,  7,  7,  7,  7,  1,  1,  4,  4,  2,  2,\n",
       "        2,  2,  2,  2,  2,  2,  2,  4,  2,  2,  2,  2,  2,  2,  2,  2,  4,\n",
       "        4,  2,  2,  2,  2,  2,  2,  2,  2,  4,  4,  2,  2,  2,  2,  2,  2,\n",
       "        2,  2,  4,  4,  2,  2,  2,  2,  2,  2,  2,  2,  4,  4,  2,  2,  2,\n",
       "        2,  2,  2,  2,  2,  4,  4,  2,  2,  2,  2,  2,  2,  2,  2,  2,  4,\n",
       "        2,  2,  2,  2,  2,  2,  2,  2,  4,  4,  2,  2,  2,  2,  2,  2,  2,\n",
       "        2,  4,  4,  2,  2,  2,  2,  2,  2,  2,  2,  4,  4, 10, 10,  7,  7,\n",
       "        7,  7,  7,  7,  7,  4,  4,  4,  4,  4,  4,  4,  4,  4,  4,  4],\n",
       "      dtype=int64)"
      ]
     },
     "execution_count": 59,
     "metadata": {},
     "output_type": "execute_result"
    }
   ],
   "source": [
    "gb_clf2 = GradientBoostingClassifier(n_estimators=20, learning_rate=0.75, max_features=2, max_depth=2, random_state=2)\n",
    "gb_clf2.fit(train_set, y_train)\n",
    "predictions = gb_clf2.predict(test_set)\n",
    "predictions\n",
    "\n",
    "#print(\"Confusion Matrix:\")\n",
    "#print(confusion_matrix(y_test, predictions))\n",
    "\n",
    "#print(\"Classification Report\")\n",
    "#print(classification_report(y_test, predictions))"
   ]
  },
  {
   "cell_type": "markdown",
   "id": "7b2dc19d",
   "metadata": {},
   "source": [
    "### Classifier method using XGBOOST"
   ]
  },
  {
   "cell_type": "code",
   "execution_count": 60,
   "id": "b2bffd5c",
   "metadata": {},
   "outputs": [
    {
     "name": "stderr",
     "output_type": "stream",
     "text": [
      "D:\\Programs\\Anaconda\\lib\\site-packages\\xgboost\\sklearn.py:1224: UserWarning: The use of label encoder in XGBClassifier is deprecated and will be removed in a future release. To remove this warning, do the following: 1) Pass option use_label_encoder=False when constructing XGBClassifier object; and 2) Encode your labels (y) as integers starting with 0, i.e. 0, 1, 2, ..., [num_class - 1].\n",
      "  warnings.warn(label_encoder_deprecation_msg, UserWarning)\n",
      "D:\\Programs\\Anaconda\\lib\\site-packages\\xgboost\\data.py:262: FutureWarning: pandas.Int64Index is deprecated and will be removed from pandas in a future version. Use pandas.Index with the appropriate dtype instead.\n",
      "  elif isinstance(data.columns, (pd.Int64Index, pd.RangeIndex)):\n"
     ]
    },
    {
     "name": "stdout",
     "output_type": "stream",
     "text": [
      "[19:12:48] WARNING: D:\\bld\\xgboost-split_1645118015404\\work\\src\\learner.cc:1115: Starting in XGBoost 1.3.0, the default evaluation metric used with the objective 'multi:softprob' was changed from 'merror' to 'mlogloss'. Explicitly set eval_metric if you'd like to restore the old behavior.\n",
      "0.10256410256410256\n"
     ]
    },
    {
     "name": "stderr",
     "output_type": "stream",
     "text": [
      "D:\\Programs\\Anaconda\\lib\\site-packages\\xgboost\\data.py:262: FutureWarning: pandas.Int64Index is deprecated and will be removed from pandas in a future version. Use pandas.Index with the appropriate dtype instead.\n",
      "  elif isinstance(data.columns, (pd.Int64Index, pd.RangeIndex)):\n"
     ]
    },
    {
     "data": {
      "text/plain": [
       "array([ 2,  5,  2,  7,  2,  4, 12,  4,  4,  4,  2,  2,  4,  2,  8, 12,  4,\n",
       "        2,  4,  4,  4,  4,  2,  4,  4, 12,  4,  2,  4,  4,  2,  4,  2,  4,\n",
       "        4, 12,  4,  2,  4,  4,  2,  2,  4,  4,  4,  2,  2,  2,  4,  4,  4,\n",
       "        4,  4,  4,  8, 12,  4,  2,  4,  2,  4,  2,  2,  2,  4,  4,  5,  2,\n",
       "        4,  6,  2,  5,  4,  4,  4,  4, 12,  4,  2,  4,  2,  2,  4,  4,  4,\n",
       "        4, 12,  4,  2,  2,  2,  5,  4,  4,  4, 12,  4,  2,  4,  6,  2,  4,\n",
       "        4,  4,  4,  4,  4,  2,  4,  6,  5,  2,  4,  4,  5,  4,  2,  2,  4,\n",
       "        4,  6,  6,  4,  4,  4,  4,  2,  2,  4,  6,  6,  4,  4,  4,  8,  4,\n",
       "        4,  2,  4,  6,  6,  6,  6,  2,  4,  4,  4,  2,  4,  4,  4,  4,  4,\n",
       "        4,  4,  4,  2,  2,  4,  4,  4,  4,  4,  4,  4,  4,  4,  4,  4,  4,\n",
       "        4,  4,  4,  4,  4,  4,  4,  2,  4,  4,  4,  4,  4,  4,  4,  4,  4,\n",
       "        2,  4,  4,  4,  6,  6,  4,  4,  4,  4,  6,  6,  6,  6,  6,  4,  6,\n",
       "        6,  4,  4,  4,  6,  6,  6,  6,  6,  6,  2,  4,  4,  4,  4,  6,  6,\n",
       "        6,  6,  6,  6,  6,  4,  4,  6,  6,  5,  5,  4,  6,  4,  4,  4,  4,\n",
       "        4,  1,  4,  6,  5,  4,  4,  4,  4,  4,  4, 10,  6,  5,  4,  4,  4,\n",
       "        4, 12,  4,  4,  4,  4,  6,  4,  4,  4, 12,  5,  5,  5,  5,  6,  6,\n",
       "        4,  4,  4,  4, 12,  4,  4,  4,  6,  2,  2,  2,  5, 12,  4,  2,  4,\n",
       "        4,  6,  4,  2,  4,  2, 12,  4,  2,  4,  4,  4,  2,  2,  5,  4, 12,\n",
       "        2,  2,  4,  1,  6,  6,  4,  2,  4, 12,  2,  2,  4,  1,  6,  6,  6,\n",
       "        6,  4, 12,  2,  2,  4,  1,  2,  4,  4,  4,  5,  4, 12,  2,  2,  4,\n",
       "        6,  6,  4,  4,  6,  4, 12,  2,  4,  2,  6,  6,  4,  5,  4,  4, 12,\n",
       "        5,  4,  4,  6,  4,  2,  5,  2, 12,  2,  2,  2,  2,  5,  6,  4,  4,\n",
       "        4,  4,  4,  4,  2,  5,  6,  4,  6,  4,  4,  4, 12,  4,  4,  4],\n",
       "      dtype=int64)"
      ]
     },
     "execution_count": 60,
     "metadata": {},
     "output_type": "execute_result"
    }
   ],
   "source": [
    "xgb_clf = XGBClassifier()\n",
    "xgb_clf.fit(train_set, y_train)\n",
    "\n",
    "score = xgb_clf.score(test_set, y_test)\n",
    "print(score)\n",
    "\n",
    "xgpredictions = xgb_clf.predict(test_set)\n",
    "xgpredictions\n",
    "#accuracy = accuracy_score(y_test, xgpredictions)\n",
    "#print(\"Accuracy: %.2f%%\" % (accuracy * 100.0))"
   ]
  },
  {
   "cell_type": "code",
   "execution_count": 39,
   "id": "8837b0e5",
   "metadata": {},
   "outputs": [
    {
     "data": {
      "text/plain": [
       "array([ 1,  7, 10, 10,  7,  4,  2,  3,  2,  2,  1,  3,  1,  4,  4,  4,  3,\n",
       "        2,  1,  5,  7,  2,  8,  8,  2, 12,  2,  6, 12,  8,  2,  3,  3,  4,\n",
       "        5,  6,  8,  6,  4,  4,  7, 12,  1,  8,  6, 12,  5,  4,  8,  8,  7,\n",
       "        7,  5,  2,  6,  6,  5,  6,  8,  4,  7,  4,  2, 12,  4,  4,  8,  7,\n",
       "        6,  4,  6,  2, 12, 10,  7,  8,  2,  3,  7,  6,  5, 10,  8,  7,  7,\n",
       "        8,  1,  3,  8,  3,  6,  5,  4,  5, 12,  8,  6, 10, 10,  6, 12,  6,\n",
       "        6, 12,  5,  5,  8,  2, 12,  8, 12,  7,  2,  7,  3,  8, 10, 12, 10,\n",
       "        5,  4,  7, 12,  3, 12,  4,  1,  6, 10,  1,  6,  5,  3,  5, 10,  8,\n",
       "        3,  1,  5,  3,  5, 10,  5,  8,  6, 10, 12,  2,  5,  1, 10,  7,  8,\n",
       "       10,  8, 12, 10, 10,  6,  5,  8,  8, 10,  8,  7, 10,  5,  6,  7,  7,\n",
       "       10, 12,  8,  8,  7, 10,  7, 10, 10, 12, 12, 10, 10,  3, 10,  2, 12,\n",
       "        3,  6,  3,  7,  5,  1,  4, 10,  5, 10, 12,  4, 12,  3,  5, 12,  6,\n",
       "        2, 12,  4,  3,  2,  4,  7,  1,  3, 10, 12,  8,  2,  2,  1,  2,  3,\n",
       "        3,  4,  5,  3,  2,  3,  2,  1,  6,  7,  1, 12,  2,  7,  2,  2,  8,\n",
       "       12,  3,  6,  1,  1,  7,  1,  8,  4,  4,  1,  1,  2,  5, 10,  3,  2,\n",
       "        8,  2,  8,  2,  2,  1,  8,  6,  6,  7,  3,  3,  5,  6,  1,  4,  5,\n",
       "        1, 10,  7, 10,  4, 12,  1,  2,  1,  1,  6,  1,  4,  3,  7,  3,  2,\n",
       "       12,  5, 12,  3,  3,  4,  4, 12, 12,  1, 12,  1,  3,  1, 10,  1,  3,\n",
       "        2, 10,  1,  1,  1,  8,  3,  8,  1,  4,  3,  2, 12,  5,  5,  4,  4,\n",
       "        3,  5,  3,  6,  2,  7,  6,  2,  4,  6,  3,  6,  4,  6,  4,  7,  2,\n",
       "        7,  6,  5,  5,  3,  1,  5,  7,  5,  7,  7,  1,  4, 10,  7,  8, 10,\n",
       "        6,  8,  6, 10,  1,  5, 10, 12,  6,  4,  5,  8,  8, 12, 12,  6, 12,\n",
       "        1, 10,  4,  5, 12, 10,  7,  7,  5,  8,  7,  6,  4,  2,  5,  4,  5,\n",
       "        2, 12,  8,  1,  6,  3,  7, 10,  4, 12,  3,  2,  5,  4,  6,  8,  7,\n",
       "       10,  1,  1,  2,  4, 10,  3,  8,  6,  5, 12,  7,  2,  3,  7,  5,  4,\n",
       "       10,  1,  6, 12,  8,  2,  3,  5,  7,  1,  6, 10,  4, 12,  8,  4,  8,\n",
       "       10,  7,  1,  2,  6,  5, 12,  3,  5,  6,  2,  7,  1,  4, 10,  8, 12,\n",
       "        3,  2,  1,  6,  3,  8,  5, 12,  7,  4, 10,  1, 10,  5,  2,  3,  4,\n",
       "        7,  8, 12,  6,  4,  1,  8,  3,  7, 10,  6,  5, 12,  2,  3,  2,  7,\n",
       "        5,  8,  4,  1, 10, 12,  6,  8,  2,  7,  6,  3,  4,  1, 10, 12,  5,\n",
       "       10,  1,  2,  5,  6,  7,  3,  8, 12,  4,  5,  3, 10,  4,  6,  1,  8,\n",
       "        7, 12,  2, 10,  3,  2,  1,  5,  8,  7,  6, 12,  4,  3, 10,  4,  1,\n",
       "        8,  7,  2,  5, 12,  6,  1,  7,  3,  6,  2,  8, 12,  4, 10,  5,  2,\n",
       "        6,  5, 10,  4,  1,  3,  8, 12,  7,  8,  7,  4, 10,  2,  1,  5,  3,\n",
       "       12,  6,  3,  6,  2,  4,  1,  7,  8,  5, 12, 10, 10,  2,  4,  3,  1,\n",
       "        8,  7,  5, 12,  6,  8,  1, 10,  7,  5,  2,  4,  6, 12,  3,  8,  3,\n",
       "        5,  1,  2,  7,  6, 10, 12,  4,  1, 10,  4,  2,  3,  6,  7,  5,  8,\n",
       "       12,  1,  7,  2,  4,  6, 10,  8,  5, 12,  3,  3,  6,  7,  2,  4,  5,\n",
       "       12,  8,  1, 10,  4,  1, 10,  5,  6,  3,  7,  2, 12,  8,  5,  3,  6,\n",
       "        1,  7,  2, 12, 10,  4,  8,  2,  7, 10,  4,  5,  3,  1,  8, 12,  6,\n",
       "        8,  2,  7,  4,  1,  5,  6, 10, 12,  3,  3,  1,  8,  4,  2,  5, 10,\n",
       "        7, 12,  6,  5,  1,  4, 12,  2,  7,  8,  6, 10,  3,  7,  5,  4,  2,\n",
       "        1,  8, 10,  3, 12,  6,  8,  6,  2,  7,  1,  3, 12,  4,  5, 10,  5,\n",
       "        7,  3,  1,  4, 10,  2,  6, 12,  8,  4,  7,  3,  1, 10,  5,  8,  2,\n",
       "       12,  6,  2,  8,  4,  1,  7, 12,  6,  3, 10,  5,  5,  4,  8, 10,  6,\n",
       "        3,  2, 12,  1,  7,  2,  7,  8,  6, 10,  3,  1,  5,  4, 12],\n",
       "      dtype=int64)"
      ]
     },
     "execution_count": 39,
     "metadata": {},
     "output_type": "execute_result"
    }
   ],
   "source": [
    "np.array(y_test)"
   ]
  },
  {
   "cell_type": "markdown",
   "id": "7e07c8c7",
   "metadata": {},
   "source": [
    "Poor prediction "
   ]
  },
  {
   "cell_type": "markdown",
   "id": "66a39b65",
   "metadata": {},
   "source": [
    "### Gradient Boosting Regression Method"
   ]
  },
  {
   "cell_type": "markdown",
   "id": "c1c9e5db",
   "metadata": {},
   "source": [
    "Here we consider the points as a continuous variable"
   ]
  },
  {
   "cell_type": "code",
   "execution_count": 61,
   "id": "07e3bc0c",
   "metadata": {},
   "outputs": [
    {
     "name": "stderr",
     "output_type": "stream",
     "text": [
      "C:\\Users\\eliza\\AppData\\Local\\Temp\\ipykernel_6248\\947182244.py:12: SettingWithCopyWarning: \n",
      "A value is trying to be set on a copy of a slice from a DataFrame\n",
      "\n",
      "See the caveats in the documentation: https://pandas.pydata.org/pandas-docs/stable/user_guide/indexing.html#returning-a-view-versus-a-copy\n",
      "  train_set.drop(labels='Points      ', axis=1, inplace=True)\n",
      "C:\\Users\\eliza\\AppData\\Local\\Temp\\ipykernel_6248\\947182244.py:17: SettingWithCopyWarning: \n",
      "A value is trying to be set on a copy of a slice from a DataFrame\n",
      "\n",
      "See the caveats in the documentation: https://pandas.pydata.org/pandas-docs/stable/user_guide/indexing.html#returning-a-view-versus-a-copy\n",
      "  test_set.drop(labels='Points      ', axis=1, inplace=True)\n"
     ]
    }
   ],
   "source": [
    "#Encoding string class values as integers\n",
    "le = preprocessing.LabelEncoder()\n",
    "df2=df\n",
    "df2['(semi-) final'] = le.fit_transform(df2['(semi-) final'].values)\n",
    "df2['Jury or Televoting'] = le.fit_transform(df2['Jury or Televoting'].values)\n",
    "df2['From country'] = le.fit_transform(df2['From country'].values)\n",
    "df2['To country'] = le.fit_transform(df2['To country'].values)\n",
    "\n",
    "#Train set\n",
    "train_set = df2[df2['Year'] < 2022]\n",
    "y_train = train_set['Points      ']\n",
    "train_set.drop(labels='Points      ', axis=1, inplace=True)\n",
    "\n",
    "#Test set\n",
    "test_set = df2[df2['Year'] == 2022]\n",
    "y_test = test_set['Points      ']\n",
    "test_set.drop(labels='Points      ', axis=1, inplace=True)"
   ]
  },
  {
   "cell_type": "code",
   "execution_count": 62,
   "id": "c6801e03",
   "metadata": {},
   "outputs": [
    {
     "name": "stdout",
     "output_type": "stream",
     "text": [
      "The mean accuracy score is:\n",
      "0.12867511140571475\n",
      "[5. 5. 5. 5. 5. 6. 5. 5. 7. 5. 5. 5. 5. 5. 5. 5. 5. 5. 7. 5. 5. 5. 5. 5.\n",
      " 5. 5. 5. 5. 7. 5. 5. 5. 5. 5. 5. 5. 5. 5. 7. 5. 5. 5. 5. 5. 5. 5. 5. 5.\n",
      " 7. 5. 5. 5. 6. 5. 5. 5. 5. 5. 7. 5. 5. 5. 5. 5. 5. 5. 5. 5. 7. 5. 5. 5.\n",
      " 5. 5. 5. 5. 5. 5. 5. 7. 5. 5. 5. 5. 5. 5. 5. 5. 7. 5. 5. 5. 5. 5. 5. 5.\n",
      " 5. 5. 7. 5. 5. 5. 5. 5. 5. 5. 5. 5. 7. 5. 5. 5. 5. 5. 6. 5. 5. 5. 7. 5.\n",
      " 5. 5. 5. 5. 5. 5. 5. 5. 7. 5. 6. 5. 5. 5. 5. 5. 5. 5. 7. 5. 6. 5. 5. 5.\n",
      " 5. 5. 5. 5. 7. 5. 5. 5. 6. 5. 5. 5. 5. 5. 7. 5. 5. 5. 5. 5. 5. 5. 5. 5.\n",
      " 7. 5. 5. 5. 6. 5. 5. 5. 5. 5. 7. 5. 5. 5. 5. 5. 5. 5. 5. 5. 7. 5. 5. 5.\n",
      " 6. 5. 5. 5. 5. 5. 7. 5. 5. 6. 5. 5. 5. 5. 5. 5. 7. 5. 5. 5. 5. 5. 5. 5.\n",
      " 5. 5. 7. 4. 5. 5. 5. 6. 5. 5. 5. 5. 7. 4. 5. 5. 5. 5. 5. 5. 5. 5. 7. 4.\n",
      " 5. 5. 5. 5. 5. 5. 5. 5. 7. 4. 5. 5. 5. 5. 5. 5. 5. 5. 5. 7. 5. 5. 5. 5.\n",
      " 5. 5. 5. 5. 7. 4. 5. 5. 5. 5. 5. 5. 5. 5. 5. 7. 5. 5. 5. 5. 5. 5. 5. 5.\n",
      " 7. 4. 5. 5. 5. 5. 5. 5. 5. 5. 7. 4. 5. 5. 5. 6. 5. 5. 5. 5. 7. 4. 5. 5.\n",
      " 5. 5. 5. 5. 5. 5. 7. 4. 5. 5. 5. 5. 5. 5. 5. 5. 7. 4. 5. 5. 5. 5. 6. 5.\n",
      " 5. 5. 5. 7. 5. 5. 5. 5. 5. 5. 5. 5. 7. 4. 5. 5. 5. 6. 5. 5. 5. 5. 7. 4.\n",
      " 5. 5. 5. 5. 5. 5. 5. 5. 7. 4. 5. 5. 5. 5. 5. 6. 5. 5. 5. 4. 5. 5. 5. 5.\n",
      " 5. 5. 5. 5. 5. 7.]\n"
     ]
    },
    {
     "name": "stderr",
     "output_type": "stream",
     "text": [
      "D:\\Programs\\Anaconda\\lib\\site-packages\\sklearn\\ensemble\\_gb.py:471: FutureWarning: Criterion 'mse' was deprecated in v1.0 and will be removed in version 1.2. Use `criterion='squared_error'` which is equivalent.\n",
      "  warnings.warn(\n",
      "D:\\Programs\\Anaconda\\lib\\site-packages\\sklearn\\tree\\_classes.py:359: FutureWarning: Criterion 'mse' was deprecated in v1.0 and will be removed in version 1.2. Use `criterion='squared_error'` which is equivalent.\n",
      "  warnings.warn(\n",
      "D:\\Programs\\Anaconda\\lib\\site-packages\\sklearn\\tree\\_classes.py:359: FutureWarning: Criterion 'mse' was deprecated in v1.0 and will be removed in version 1.2. Use `criterion='squared_error'` which is equivalent.\n",
      "  warnings.warn(\n",
      "D:\\Programs\\Anaconda\\lib\\site-packages\\sklearn\\tree\\_classes.py:359: FutureWarning: Criterion 'mse' was deprecated in v1.0 and will be removed in version 1.2. Use `criterion='squared_error'` which is equivalent.\n",
      "  warnings.warn(\n",
      "D:\\Programs\\Anaconda\\lib\\site-packages\\sklearn\\tree\\_classes.py:359: FutureWarning: Criterion 'mse' was deprecated in v1.0 and will be removed in version 1.2. Use `criterion='squared_error'` which is equivalent.\n",
      "  warnings.warn(\n"
     ]
    }
   ],
   "source": [
    "params = {'n_estimators' : 4, 'max_depth' : 3, 'learning_rate' : 0.5, 'criterion':'mse'}\n",
    "gb_reg = ensemble.GradientBoostingRegressor(**params)\n",
    "gb_reg.fit(train_set, y_train)\n",
    "print(\"The mean accuracy score is:\")\n",
    "print(gb_reg.score(train_set,y_train)) #Mean accuracy\n",
    "\n",
    "predictions_reg = np.round(gb_reg.predict(test_set))\n",
    "print(predictions_reg)"
   ]
  },
  {
   "cell_type": "code",
   "execution_count": 47,
   "id": "48b2750e",
   "metadata": {},
   "outputs": [
    {
     "data": {
      "text/plain": [
       "array([ 1,  7, 10, 10,  7,  4,  2,  3,  2,  2,  1,  3,  1,  4,  4,  4,  3,\n",
       "        2,  1,  5,  7,  2,  8,  8,  2, 12,  2,  6, 12,  8,  2,  3,  3,  4,\n",
       "        5,  6,  8,  6,  4,  4,  7, 12,  1,  8,  6, 12,  5,  4,  8,  8,  7,\n",
       "        7,  5,  2,  6,  6,  5,  6,  8,  4,  7,  4,  2, 12,  4,  4,  8,  7,\n",
       "        6,  4,  6,  2, 12, 10,  7,  8,  2,  3,  7,  6,  5, 10,  8,  7,  7,\n",
       "        8,  1,  3,  8,  3,  6,  5,  4,  5, 12,  8,  6, 10, 10,  6, 12,  6,\n",
       "        6, 12,  5,  5,  8,  2, 12,  8, 12,  7,  2,  7,  3,  8, 10, 12, 10,\n",
       "        5,  4,  7, 12,  3, 12,  4,  1,  6, 10,  1,  6,  5,  3,  5, 10,  8,\n",
       "        3,  1,  5,  3,  5, 10,  5,  8,  6, 10, 12,  2,  5,  1, 10,  7,  8,\n",
       "       10,  8, 12, 10, 10,  6,  5,  8,  8, 10,  8,  7, 10,  5,  6,  7,  7,\n",
       "       10, 12,  8,  8,  7, 10,  7, 10, 10, 12, 12, 10, 10,  3, 10,  2, 12,\n",
       "        3,  6,  3,  7,  5,  1,  4, 10,  5, 10, 12,  4, 12,  3,  5, 12,  6,\n",
       "        2, 12,  4,  3,  2,  4,  7,  1,  3, 10, 12,  8,  2,  2,  1,  2,  3,\n",
       "        3,  4,  5,  3,  2,  3,  2,  1,  6,  7,  1, 12,  2,  7,  2,  2,  8,\n",
       "       12,  3,  6,  1,  1,  7,  1,  8,  4,  4,  1,  1,  2,  5, 10,  3,  2,\n",
       "        8,  2,  8,  2,  2,  1,  8,  6,  6,  7,  3,  3,  5,  6,  1,  4,  5,\n",
       "        1, 10,  7, 10,  4, 12,  1,  2,  1,  1,  6,  1,  4,  3,  7,  3,  2,\n",
       "       12,  5, 12,  3,  3,  4,  4, 12, 12,  1, 12,  1,  3,  1, 10,  1,  3,\n",
       "        2, 10,  1,  1,  1,  8,  3,  8,  1,  4,  3,  2, 12,  5,  5,  4,  4,\n",
       "        3,  5,  3,  6,  2,  7,  6,  2,  4,  6,  3,  6,  4,  6,  4,  7,  2,\n",
       "        7,  6,  5,  5,  3,  1,  5,  7,  5,  7,  7,  1,  4, 10,  7,  8, 10,\n",
       "        6,  8,  6, 10,  1,  5, 10, 12,  6,  4,  5,  8,  8, 12, 12,  6, 12,\n",
       "        1, 10,  4,  5, 12, 10,  7,  7,  5,  8,  7,  6,  4,  2,  5,  4,  5,\n",
       "        2, 12,  8,  1,  6,  3,  7, 10,  4, 12,  3,  2,  5,  4,  6,  8,  7,\n",
       "       10,  1,  1,  2,  4, 10,  3,  8,  6,  5, 12,  7,  2,  3,  7,  5,  4,\n",
       "       10,  1,  6, 12,  8,  2,  3,  5,  7,  1,  6, 10,  4, 12,  8,  4,  8,\n",
       "       10,  7,  1,  2,  6,  5, 12,  3,  5,  6,  2,  7,  1,  4, 10,  8, 12,\n",
       "        3,  2,  1,  6,  3,  8,  5, 12,  7,  4, 10,  1, 10,  5,  2,  3,  4,\n",
       "        7,  8, 12,  6,  4,  1,  8,  3,  7, 10,  6,  5, 12,  2,  3,  2,  7,\n",
       "        5,  8,  4,  1, 10, 12,  6,  8,  2,  7,  6,  3,  4,  1, 10, 12,  5,\n",
       "       10,  1,  2,  5,  6,  7,  3,  8, 12,  4,  5,  3, 10,  4,  6,  1,  8,\n",
       "        7, 12,  2, 10,  3,  2,  1,  5,  8,  7,  6, 12,  4,  3, 10,  4,  1,\n",
       "        8,  7,  2,  5, 12,  6,  1,  7,  3,  6,  2,  8, 12,  4, 10,  5,  2,\n",
       "        6,  5, 10,  4,  1,  3,  8, 12,  7,  8,  7,  4, 10,  2,  1,  5,  3,\n",
       "       12,  6,  3,  6,  2,  4,  1,  7,  8,  5, 12, 10, 10,  2,  4,  3,  1,\n",
       "        8,  7,  5, 12,  6,  8,  1, 10,  7,  5,  2,  4,  6, 12,  3,  8,  3,\n",
       "        5,  1,  2,  7,  6, 10, 12,  4,  1, 10,  4,  2,  3,  6,  7,  5,  8,\n",
       "       12,  1,  7,  2,  4,  6, 10,  8,  5, 12,  3,  3,  6,  7,  2,  4,  5,\n",
       "       12,  8,  1, 10,  4,  1, 10,  5,  6,  3,  7,  2, 12,  8,  5,  3,  6,\n",
       "        1,  7,  2, 12, 10,  4,  8,  2,  7, 10,  4,  5,  3,  1,  8, 12,  6,\n",
       "        8,  2,  7,  4,  1,  5,  6, 10, 12,  3,  3,  1,  8,  4,  2,  5, 10,\n",
       "        7, 12,  6,  5,  1,  4, 12,  2,  7,  8,  6, 10,  3,  7,  5,  4,  2,\n",
       "        1,  8, 10,  3, 12,  6,  8,  6,  2,  7,  1,  3, 12,  4,  5, 10,  5,\n",
       "        7,  3,  1,  4, 10,  2,  6, 12,  8,  4,  7,  3,  1, 10,  5,  8,  2,\n",
       "       12,  6,  2,  8,  4,  1,  7, 12,  6,  3, 10,  5,  5,  4,  8, 10,  6,\n",
       "        3,  2, 12,  1,  7,  2,  7,  8,  6, 10,  3,  1,  5,  4, 12],\n",
       "      dtype=int64)"
      ]
     },
     "execution_count": 47,
     "metadata": {},
     "output_type": "execute_result"
    }
   ],
   "source": [
    "np.array(y_test)"
   ]
  },
  {
   "cell_type": "markdown",
   "id": "6d02c61a",
   "metadata": {},
   "source": [
    "### XGBOOST Regression Method"
   ]
  },
  {
   "cell_type": "code",
   "execution_count": 63,
   "id": "f2704103",
   "metadata": {},
   "outputs": [
    {
     "name": "stdout",
     "output_type": "stream",
     "text": [
      "[19:14:15] WARNING: d:\\bld\\xgboost-split_1645118015404\\work\\src\\objective\\regression_obj.cu:188: reg:linear is now deprecated in favor of reg:squarederror.\n"
     ]
    },
    {
     "name": "stderr",
     "output_type": "stream",
     "text": [
      "D:\\Programs\\Anaconda\\lib\\site-packages\\xgboost\\data.py:262: FutureWarning: pandas.Int64Index is deprecated and will be removed from pandas in a future version. Use pandas.Index with the appropriate dtype instead.\n",
      "  elif isinstance(data.columns, (pd.Int64Index, pd.RangeIndex)):\n"
     ]
    },
    {
     "data": {
      "text/plain": [
       "array([5., 5., 5., 6., 6., 5., 6., 5., 6., 4., 5., 5., 6., 6., 6., 6., 5.,\n",
       "       5., 6., 4., 6., 6., 6., 6., 6., 6., 5., 5., 6., 4., 5., 6., 6., 6.,\n",
       "       6., 6., 5., 5., 6., 4., 5., 5., 6., 6., 6., 6., 5., 5., 6., 4., 6.,\n",
       "       6., 5., 6., 6., 6., 5., 5., 6., 4., 5., 5., 6., 6., 6., 6., 6., 5.,\n",
       "       6., 4., 5., 5., 6., 6., 6., 6., 6., 5., 5., 6., 5., 5., 6., 6., 6.,\n",
       "       6., 6., 5., 6., 4., 5., 5., 6., 6., 6., 6., 5., 5., 6., 4., 5., 5.,\n",
       "       6., 6., 6., 6., 5., 5., 6., 4., 5., 5., 6., 6., 5., 6., 5., 5., 6.,\n",
       "       4., 5., 5., 6., 6., 6., 6., 5., 5., 6., 4., 5., 6., 6., 6., 6., 6.,\n",
       "       6., 5., 6., 4., 5., 5., 5., 5., 6., 6., 6., 5., 6., 4., 6., 6., 5.,\n",
       "       6., 6., 6., 5., 5., 6., 4., 5., 6., 6., 6., 6., 6., 5., 5., 6., 4.,\n",
       "       6., 6., 5., 6., 6., 6., 5., 5., 6., 4., 6., 6., 6., 6., 6., 6., 5.,\n",
       "       5., 6., 4., 6., 6., 5., 6., 6., 6., 5., 5., 6., 4., 6., 5., 6., 6.,\n",
       "       6., 6., 6., 5., 6., 4., 5., 5., 6., 6., 6., 6., 5., 5., 6., 4., 5.,\n",
       "       6., 6., 5., 6., 6., 5., 5., 6., 4., 5., 6., 6., 6., 6., 6., 5., 5.,\n",
       "       6., 4., 5., 5., 5., 6., 6., 6., 5., 5., 6., 4., 5., 6., 6., 6., 6.,\n",
       "       6., 6., 5., 5., 6., 5., 5., 6., 6., 6., 6., 5., 5., 6., 4., 5., 5.,\n",
       "       6., 6., 6., 6., 6., 5., 5., 6., 5., 5., 6., 6., 6., 6., 5., 5., 6.,\n",
       "       4., 5., 6., 6., 6., 6., 6., 5., 5., 6., 4., 6., 6., 6., 5., 6., 6.,\n",
       "       5., 5., 6., 4., 5., 5., 6., 6., 6., 6., 5., 5., 6., 4., 5., 6., 6.,\n",
       "       6., 6., 6., 5., 5., 6., 4., 5., 6., 6., 6., 5., 6., 6., 5., 5., 6.,\n",
       "       6., 6., 6., 6., 6., 6., 6., 5., 6., 4., 5., 5., 6., 5., 6., 6., 6.,\n",
       "       5., 6., 4., 5., 6., 6., 6., 6., 6., 5., 5., 6., 4., 5., 5., 5., 6.,\n",
       "       6., 5., 6., 6., 5., 4., 5., 6., 6., 6., 6., 6., 6., 5., 5., 6.],\n",
       "      dtype=float32)"
      ]
     },
     "execution_count": 63,
     "metadata": {},
     "output_type": "execute_result"
    }
   ],
   "source": [
    "reg = xgb.XGBRegressor(objective ='reg:linear', colsample_bytree = 0.3, learning_rate = 0.5,\n",
    "                    max_depth = 10, alpha = 10, n_estimators = 10)\n",
    "reg.fit(train_set,y_train)\n",
    "y_pred = reg.predict(test_set)\n",
    "np.round(y_pred)"
   ]
  },
  {
   "cell_type": "code",
   "execution_count": null,
   "id": "1b97dc2a",
   "metadata": {},
   "outputs": [],
   "source": []
  }
 ],
 "metadata": {
  "kernelspec": {
   "display_name": "Python 3 (ipykernel)",
   "language": "python",
   "name": "python3"
  },
  "language_info": {
   "codemirror_mode": {
    "name": "ipython",
    "version": 3
   },
   "file_extension": ".py",
   "mimetype": "text/x-python",
   "name": "python",
   "nbconvert_exporter": "python",
   "pygments_lexer": "ipython3",
   "version": "3.9.12"
  }
 },
 "nbformat": 4,
 "nbformat_minor": 5
}
